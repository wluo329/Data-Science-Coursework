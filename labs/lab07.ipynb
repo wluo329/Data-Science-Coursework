{
 "cells": [
  {
   "cell_type": "code",
   "execution_count": 55,
   "metadata": {
    "deletable": false,
    "editable": false
   },
   "outputs": [],
   "source": [
    "# Initialize Otter\n",
    "import otter\n",
    "grader = otter.Notebook(\"lab07.ipynb\")"
   ]
  },
  {
   "cell_type": "markdown",
   "metadata": {
    "nbgrader": {
     "grade": false,
     "grade_id": "intro",
     "locked": true,
     "schema_version": 2,
     "solution": false
    }
   },
   "source": [
    "# Lab 7: Gradient Descent and Feature Engineering\n",
    "\n",
    "In this lab, we will work through the process of:\n",
    "1. Defining loss functions\n",
    "1. Feature engineering\n",
    "1. Minimizing loss functions using numeric methods and analytical methods \n",
    "1. Understanding what happens if we use the analytical solution for OLS on a matrix with redundant features\n",
    "1. Computing a gradient for a nonlinear model\n",
    "1. Using gradient descent to optimize the nonline model\n",
    "\n",
    "This lab will continue using the toy `tips` calculation dataset used in Labs 5 and 6.\n",
    "\n",
    "**This assignment should be completed and submitted by Tuesday, March 8th, 2022 at 11:59pm PDT**"
   ]
  },
  {
   "cell_type": "markdown",
   "metadata": {},
   "source": [
    "### Lab Walk-Through\n",
    "In addition to the lab notebook, we have also released a prerecorded walk-through video of the lab. We encourage you to reference this video as you work through the lab. Run the cell below to display the video."
   ]
  },
  {
   "cell_type": "code",
   "execution_count": 56,
   "metadata": {},
   "outputs": [
    {
     "data": {
      "image/jpeg": "[encoded data removed]",
      "text/html": [
       "\n",
       "        <iframe\n",
       "            width=\"400\"\n",
       "            height=\"300\"\n",
       "            src=\"https://www.youtube.com/embed/LQN3dv-WozY?list=PLQCcNQgUcDfq7hfzndTXvUrFN_MoUN2F1&listType=playlist\"\n",
       "            frameborder=\"0\"\n",
       "            allowfullscreen\n",
       "            \n",
       "        ></iframe>\n",
       "        "
      ],
      "text/plain": [
       "<IPython.lib.display.YouTubeVideo at 0x7f1d7c81be20>"
      ]
     },
     "execution_count": 56,
     "metadata": {},
     "output_type": "execute_result"
    }
   ],
   "source": [
    "from IPython.display import YouTubeVideo\n",
    "YouTubeVideo(\"LQN3dv-WozY\", list = 'PLQCcNQgUcDfq7hfzndTXvUrFN_MoUN2F1', listType = 'playlist')"
   ]
  },
  {
   "cell_type": "markdown",
   "metadata": {},
   "source": [
    "### Collaboration Policy\n",
    "\n",
    "Data science is a collaborative activity. While you may talk with others about the labs, we ask that you **write your solutions individually**. If you do discuss the assignments with others, please **include their names** at the top of this notebook."
   ]
  },
  {
   "cell_type": "markdown",
   "metadata": {},
   "source": [
    "**Collaborators**: *List names here*"
   ]
  },
  {
   "cell_type": "markdown",
   "metadata": {
    "nbgrader": {
     "grade": false,
     "grade_id": "load-data-text",
     "locked": true,
     "schema_version": 2,
     "solution": false
    }
   },
   "source": [
    "<br/><br/>\n",
    "<hr style=\"border: 5px solid #003262;\" />\n",
    "<hr style=\"border: 1px solid #fdb515;\" />\n",
    "\n",
    "# Loading the Tips Dataset\n",
    "\n",
    "To begin, let's load the tips dataset from the `seaborn` library.  This dataset contains records of tips, total bill, and information about the person who paid the bill. As earlier, we'll be trying to predict tips from the other data."
   ]
  },
  {
   "cell_type": "code",
   "execution_count": 57,
   "metadata": {
    "nbgrader": {
     "grade": false,
     "grade_id": "imports",
     "locked": true,
     "schema_version": 2,
     "solution": false
    }
   },
   "outputs": [],
   "source": [
    "import pandas as pd\n",
    "import numpy as np\n",
    "import seaborn as sns\n",
    "from sklearn.feature_extraction import DictVectorizer\n",
    "import matplotlib.pyplot as plt\n",
    "np.random.seed(42)\n",
    "plt.style.use('fivethirtyeight')\n",
    "sns.set()\n",
    "sns.set_context(\"talk\")\n",
    "%matplotlib inline"
   ]
  },
  {
   "cell_type": "code",
   "execution_count": 58,
   "metadata": {
    "nbgrader": {
     "grade": false,
     "grade_id": "load-data-code",
     "locked": true,
     "schema_version": 2,
     "solution": false
    }
   },
   "outputs": [
    {
     "name": "stdout",
     "output_type": "stream",
     "text": [
      "Number of Records: 244\n"
     ]
    },
    {
     "data": {
      "text/html": [
       "<div>\n",
       "<style scoped>\n",
       "    .dataframe tbody tr th:only-of-type {\n",
       "        vertical-align: middle;\n",
       "    }\n",
       "\n",
       "    .dataframe tbody tr th {\n",
       "        vertical-align: top;\n",
       "    }\n",
       "\n",
       "    .dataframe thead th {\n",
       "        text-align: right;\n",
       "    }\n",
       "</style>\n",
       "<table border=\"1\" class=\"dataframe\">\n",
       "  <thead>\n",
       "    <tr style=\"text-align: right;\">\n",
       "      <th></th>\n",
       "      <th>total_bill</th>\n",
       "      <th>tip</th>\n",
       "      <th>sex</th>\n",
       "      <th>smoker</th>\n",
       "      <th>day</th>\n",
       "      <th>time</th>\n",
       "      <th>size</th>\n",
       "    </tr>\n",
       "  </thead>\n",
       "  <tbody>\n",
       "    <tr>\n",
       "      <th>0</th>\n",
       "      <td>16.99</td>\n",
       "      <td>1.01</td>\n",
       "      <td>Female</td>\n",
       "      <td>No</td>\n",
       "      <td>Sun</td>\n",
       "      <td>Dinner</td>\n",
       "      <td>2</td>\n",
       "    </tr>\n",
       "    <tr>\n",
       "      <th>1</th>\n",
       "      <td>10.34</td>\n",
       "      <td>1.66</td>\n",
       "      <td>Male</td>\n",
       "      <td>No</td>\n",
       "      <td>Sun</td>\n",
       "      <td>Dinner</td>\n",
       "      <td>3</td>\n",
       "    </tr>\n",
       "    <tr>\n",
       "      <th>2</th>\n",
       "      <td>21.01</td>\n",
       "      <td>3.50</td>\n",
       "      <td>Male</td>\n",
       "      <td>No</td>\n",
       "      <td>Sun</td>\n",
       "      <td>Dinner</td>\n",
       "      <td>3</td>\n",
       "    </tr>\n",
       "    <tr>\n",
       "      <th>3</th>\n",
       "      <td>23.68</td>\n",
       "      <td>3.31</td>\n",
       "      <td>Male</td>\n",
       "      <td>No</td>\n",
       "      <td>Sun</td>\n",
       "      <td>Dinner</td>\n",
       "      <td>2</td>\n",
       "    </tr>\n",
       "    <tr>\n",
       "      <th>4</th>\n",
       "      <td>24.59</td>\n",
       "      <td>3.61</td>\n",
       "      <td>Female</td>\n",
       "      <td>No</td>\n",
       "      <td>Sun</td>\n",
       "      <td>Dinner</td>\n",
       "      <td>4</td>\n",
       "    </tr>\n",
       "  </tbody>\n",
       "</table>\n",
       "</div>"
      ],
      "text/plain": [
       "   total_bill   tip     sex smoker  day    time  size\n",
       "0       16.99  1.01  Female     No  Sun  Dinner     2\n",
       "1       10.34  1.66    Male     No  Sun  Dinner     3\n",
       "2       21.01  3.50    Male     No  Sun  Dinner     3\n",
       "3       23.68  3.31    Male     No  Sun  Dinner     2\n",
       "4       24.59  3.61  Female     No  Sun  Dinner     4"
      ]
     },
     "execution_count": 58,
     "metadata": {},
     "output_type": "execute_result"
    }
   ],
   "source": [
    "data = sns.load_dataset(\"tips\")\n",
    "\n",
    "print(\"Number of Records:\", len(data))\n",
    "data.head()"
   ]
  },
  {
   "cell_type": "markdown",
   "metadata": {},
   "source": [
    "---\n",
    "\n",
    "## Intro to Feature Engineering\n",
    "\n",
    "So far, we've only considered models of the form $\\hat{y} = f_{\\theta}(x) = \\sum_{j=0}^d x_j\\theta_j$, where $\\hat{y}$ is quantitative continuous. \n",
    "\n",
    "We call this a linear model because it is a linear combination of the features (the $x_j$). However, our features don't need to be numbers: we could have categorical values such as names. Additionally, the true relationship doesn't have to be linear, as we could have a relationship that is quadratic, such as the relationship between the height of a projectile and time.\n",
    "\n",
    "In these cases, we often apply **feature functions**, functions that take in some value and output another value. This might look like converting a string into a number, combining multiple numeric values, or creating a boolean value from some filter.\n",
    "\n",
    "Then, if we call $\\phi$ (\"phi\") our \"phi\"-ture function, our model takes the form $\\hat{y} = f_{\\theta}(x) = \\sum_{j=0}^d \\phi(x)_j\\theta_j$."
   ]
  },
  {
   "cell_type": "markdown",
   "metadata": {},
   "source": [
    "### Example feature functions\n",
    "\n",
    "1. One-hot encoding\n",
    "    - converts a single categorical feature into many binary features, each of which represents one of the possible values in the original column\n",
    "    - each of the binary feature columns produced contains a 1 for rows that had that column's label in the original column, and 0 elsewhere\n",
    "1. Polynomial features\n",
    "    - create polynomial combinations of features"
   ]
  },
  {
   "cell_type": "markdown",
   "metadata": {
    "nbgrader": {
     "grade": false,
     "grade_id": "q1",
     "locked": true,
     "schema_version": 2,
     "solution": false
    }
   },
   "source": [
    "<br/>\n",
    "<hr style=\"border: 1px solid #fdb515;\" />\n",
    "\n",
    "## Question 1: Defining the Model and Feature Engineering\n",
    "\n",
    "In Lab 6 we used the constant model. Now let's make a more complicated model that utilizes other features in our dataset. You can imagine that we might want to use the features with an equation that looks as shown below:\n",
    "\n",
    "$$ \\text{Tip} = \\theta_1 \\cdot \\text{total}\\_\\text{bill} + \\theta_2 \\cdot \\text{sex} + \\theta_3 \\cdot \\text{smoker} + \\theta_4 \\cdot \\text{day} + \\theta_5 \\cdot \\text{time} + \\theta_6 \\cdot \\text{size} $$\n",
    "\n",
    "Unfortunately, that's not possible because some of these features like \"day\" are not numbers, so it doesn't make sense to multiply by a numerical parameter.\n",
    "\n",
    "Let's start by converting some of these non-numerical values into numerical values. Before we do this, let's separate out the tips and the features into two separate variables."
   ]
  },
  {
   "cell_type": "code",
   "execution_count": 59,
   "metadata": {},
   "outputs": [],
   "source": [
    "tips = data['tip']\n",
    "X = data.drop(columns='tip')"
   ]
  },
  {
   "cell_type": "markdown",
   "metadata": {
    "deletable": false,
    "editable": false,
    "nbgrader": {
     "grade": false,
     "grade_id": "q1a",
     "locked": true,
     "schema_version": 2,
     "solution": false
    }
   },
   "source": [
    "---\n",
    "### Question 1a: Feature Engineering\n",
    "\n",
    "First, let's convert our features to numerical values. A straightforward approach is to map some of these non-numerical features into numerical ones. \n",
    "\n",
    "For example, we can treat the day as a value from 1-7. However, one of the disadvantages in directly translating to a numeric value is that we unintentionally assign certain features disproportionate weight. Consider assigning Sunday to the numeric value of 7, and Monday to the numeric value of 1. In our linear model, Sunday will have 7 times the influence of Monday, which can lower the accuracy of our model.\n",
    "\n",
    "Instead, let's use one-hot encoding to better represent these features! \n",
    "\n",
    "As you will learn in lecture, one-hot encoding is a way that we can produce a binary vector to indicate non-numeric features. \n",
    "\n",
    "In the `tips` dataset for example, we encode Sunday as the vector `[0 0 0 1]` because our dataset only contains bills from Thursday through Sunday. This assigns a more even weight across each category in non-numeric features. Complete the code below to one-hot encode our dataset. This dataframe holds our \"featurized\" data, which is also often denoted by $\\phi$.\n",
    "\n",
    "**Hint:** You may find the [pd.get_dummies method](https://pandas.pydata.org/docs/reference/api/pandas.get_dummies.html) or the [DictVectorizer class](https://scikit-learn.org/stable/modules/generated/sklearn.feature_extraction.DictVectorizer.html) useful when doing your one-hot encoding.\n",
    "\n",
    "<!--\n",
    "BEGIN QUESTION\n",
    "name: q1a\n",
    "points: 2\n",
    "-->"
   ]
  },
  {
   "cell_type": "code",
   "execution_count": 60,
   "metadata": {
    "nbgrader": {
     "grade": false,
     "grade_id": "q1a-answer",
     "locked": false,
     "schema_version": 2,
     "solution": true
    }
   },
   "outputs": [
    {
     "data": {
      "text/html": [
       "<div>\n",
       "<style scoped>\n",
       "    .dataframe tbody tr th:only-of-type {\n",
       "        vertical-align: middle;\n",
       "    }\n",
       "\n",
       "    .dataframe tbody tr th {\n",
       "        vertical-align: top;\n",
       "    }\n",
       "\n",
       "    .dataframe thead th {\n",
       "        text-align: right;\n",
       "    }\n",
       "</style>\n",
       "<table border=\"1\" class=\"dataframe\">\n",
       "  <thead>\n",
       "    <tr style=\"text-align: right;\">\n",
       "      <th></th>\n",
       "      <th>total_bill</th>\n",
       "      <th>size</th>\n",
       "      <th>sex=Female</th>\n",
       "      <th>sex=Male</th>\n",
       "      <th>smoker=No</th>\n",
       "      <th>smoker=Yes</th>\n",
       "      <th>day=Sun</th>\n",
       "      <th>day=Sat</th>\n",
       "      <th>day=Thur</th>\n",
       "      <th>day=Fri</th>\n",
       "      <th>time=Dinner</th>\n",
       "      <th>time=Lunch</th>\n",
       "    </tr>\n",
       "  </thead>\n",
       "  <tbody>\n",
       "    <tr>\n",
       "      <th>0</th>\n",
       "      <td>16.99</td>\n",
       "      <td>2</td>\n",
       "      <td>1</td>\n",
       "      <td>0</td>\n",
       "      <td>1</td>\n",
       "      <td>0</td>\n",
       "      <td>1</td>\n",
       "      <td>0</td>\n",
       "      <td>0</td>\n",
       "      <td>0</td>\n",
       "      <td>1</td>\n",
       "      <td>0</td>\n",
       "    </tr>\n",
       "    <tr>\n",
       "      <th>1</th>\n",
       "      <td>10.34</td>\n",
       "      <td>3</td>\n",
       "      <td>0</td>\n",
       "      <td>1</td>\n",
       "      <td>1</td>\n",
       "      <td>0</td>\n",
       "      <td>1</td>\n",
       "      <td>0</td>\n",
       "      <td>0</td>\n",
       "      <td>0</td>\n",
       "      <td>1</td>\n",
       "      <td>0</td>\n",
       "    </tr>\n",
       "    <tr>\n",
       "      <th>2</th>\n",
       "      <td>21.01</td>\n",
       "      <td>3</td>\n",
       "      <td>0</td>\n",
       "      <td>1</td>\n",
       "      <td>1</td>\n",
       "      <td>0</td>\n",
       "      <td>1</td>\n",
       "      <td>0</td>\n",
       "      <td>0</td>\n",
       "      <td>0</td>\n",
       "      <td>1</td>\n",
       "      <td>0</td>\n",
       "    </tr>\n",
       "    <tr>\n",
       "      <th>3</th>\n",
       "      <td>23.68</td>\n",
       "      <td>2</td>\n",
       "      <td>0</td>\n",
       "      <td>1</td>\n",
       "      <td>1</td>\n",
       "      <td>0</td>\n",
       "      <td>1</td>\n",
       "      <td>0</td>\n",
       "      <td>0</td>\n",
       "      <td>0</td>\n",
       "      <td>1</td>\n",
       "      <td>0</td>\n",
       "    </tr>\n",
       "    <tr>\n",
       "      <th>4</th>\n",
       "      <td>24.59</td>\n",
       "      <td>4</td>\n",
       "      <td>1</td>\n",
       "      <td>0</td>\n",
       "      <td>1</td>\n",
       "      <td>0</td>\n",
       "      <td>1</td>\n",
       "      <td>0</td>\n",
       "      <td>0</td>\n",
       "      <td>0</td>\n",
       "      <td>1</td>\n",
       "      <td>0</td>\n",
       "    </tr>\n",
       "  </tbody>\n",
       "</table>\n",
       "</div>"
      ],
      "text/plain": [
       "   total_bill  size  sex=Female  sex=Male  smoker=No  smoker=Yes  day=Sun  \\\n",
       "0       16.99     2           1         0          1           0        1   \n",
       "1       10.34     3           0         1          1           0        1   \n",
       "2       21.01     3           0         1          1           0        1   \n",
       "3       23.68     2           0         1          1           0        1   \n",
       "4       24.59     4           1         0          1           0        1   \n",
       "\n",
       "   day=Sat  day=Thur  day=Fri  time=Dinner  time=Lunch  \n",
       "0        0         0        0            1           0  \n",
       "1        0         0        0            1           0  \n",
       "2        0         0        0            1           0  \n",
       "3        0         0        0            1           0  \n",
       "4        0         0        0            1           0  "
      ]
     },
     "execution_count": 60,
     "metadata": {},
     "output_type": "execute_result"
    }
   ],
   "source": [
    "def one_hot_encode(data):\n",
    "    \"\"\"\n",
    "    Return the one-hot encoded dataframe of our input data.\n",
    "    \n",
    "    Parameters\n",
    "    -----------\n",
    "    data: a dataframe that may include non-numerical features\n",
    "    \n",
    "    Returns\n",
    "    -----------\n",
    "    A one-hot encoded dataframe that only contains numeric features\n",
    "    \n",
    "    \"\"\"\n",
    "    columns = ['sex', 'smoker', 'day', 'time']\n",
    "    for column in columns:\n",
    "        values = data[column].unique()\n",
    "        for value in values:\n",
    "            data[column + '=' + value] = (data[column] == value).astype(int)\n",
    "        data = data.drop(column, axis = 1)\n",
    "    return data\n",
    "    \n",
    "one_hot_X = one_hot_encode(X)\n",
    "one_hot_X.head()"
   ]
  },
  {
   "cell_type": "code",
   "execution_count": 61,
   "metadata": {
    "deletable": false,
    "editable": false
   },
   "outputs": [
    {
     "data": {
      "text/html": [
       "<p><strong><pre style='display: inline;'>q1a</pre></strong> passed!</p>"
      ],
      "text/plain": [
       "q1a results: All test cases passed!"
      ]
     },
     "execution_count": 61,
     "metadata": {},
     "output_type": "execute_result"
    }
   ],
   "source": [
    "grader.check(\"q1a\")"
   ]
  },
  {
   "cell_type": "markdown",
   "metadata": {
    "nbgrader": {
     "grade": false,
     "grade_id": "q1b",
     "locked": true,
     "schema_version": 2,
     "solution": false
    }
   },
   "source": [
    "---\n",
    "### Question 1b: Defining the Model\n",
    "\n",
    "Now that all of our data is numeric, we can begin to define our model function. Notice that after one-hot encoding our data, we now have 12 features instead of 6. Therefore, our linear model now looks like:\n",
    "\n",
    "$$ \\text{Tip} = \\theta_1 \\cdot \\text{size} + \\theta_2 \\cdot \\text{total}\\_\\text{bill} + \\theta_3 \\cdot \\text{day}\\_\\text{Thur} + \\theta_4 \\cdot \\text{day}\\_\\text{Fri} + ... + \\theta_{11} \\cdot \\text{time}\\_\\text{Lunch} + \\theta_{12} \\cdot \\text{time}\\_\\text{Dinner} $$\n",
    "\n",
    "We can represent the linear combination above as a matrix-vector product. Implement the `linear_model` function to evaluate this product.\n",
    "\n",
    "Below, we create a `MyLinearModel` class with two methods, `predict` and `fit`. When fitted, this model fails to do anything useful, setting all of its 12 parameters to zero."
   ]
  },
  {
   "cell_type": "code",
   "execution_count": 62,
   "metadata": {},
   "outputs": [],
   "source": [
    "class MyLinearModel():    \n",
    "    def predict(self, X):\n",
    "        return X @ self._thetas\n",
    "    \n",
    "    def fit(self, X, y):\n",
    "        number_of_features = X.shape[1]\n",
    "        self._thetas = np.zeros(shape = (number_of_features, 1))"
   ]
  },
  {
   "cell_type": "code",
   "execution_count": 63,
   "metadata": {},
   "outputs": [
    {
     "data": {
      "text/plain": [
       "array([[0.],\n",
       "       [0.],\n",
       "       [0.],\n",
       "       [0.],\n",
       "       [0.],\n",
       "       [0.],\n",
       "       [0.],\n",
       "       [0.],\n",
       "       [0.],\n",
       "       [0.],\n",
       "       [0.],\n",
       "       [0.]])"
      ]
     },
     "execution_count": 63,
     "metadata": {},
     "output_type": "execute_result"
    }
   ],
   "source": [
    "model = MyLinearModel()\n",
    "model.fit(one_hot_X, tips)\n",
    "model._thetas"
   ]
  },
  {
   "cell_type": "markdown",
   "metadata": {
    "deletable": false,
    "editable": false,
    "nbgrader": {
     "grade": false,
     "grade_id": "q2",
     "locked": true,
     "schema_version": 2,
     "solution": false
    }
   },
   "source": [
    "<br/>\n",
    "<hr style=\"border: 1px solid #fdb515;\" />\n",
    "\n",
    "## Question 2: Fitting a Linear Model using scipy.optimize.minimize Methods\n",
    "\n",
    "Recall in Lab 5 and in lecture 12 we defined multiple loss functions and found the optimal theta using the `scipy.optimize.minimize` function. Adapt the code below to implement the fit method of the linear model.\n",
    "\n",
    "Note that we've added a `loss_function` parameter where the model is fit using the desired loss function, i.e. not necssarily the L2 loss. Example loss function are given as `l1` and `l2`.\n",
    "    \n",
    "\n",
    "<!--\n",
    "BEGIN QUESTION\n",
    "name: q2\n",
    "points: 2\n",
    "-->"
   ]
  },
  {
   "cell_type": "code",
   "execution_count": 64,
   "metadata": {
    "nbgrader": {
     "grade": false,
     "grade_id": "q2-answer",
     "locked": false,
     "schema_version": 2,
     "solution": true
    }
   },
   "outputs": [
    {
     "data": {
      "text/plain": [
       "array([0.09448701, 0.17599121, 0.21655231, 0.18411083, 0.2435356 ,\n",
       "       0.15712762, 0.15199318, 0.05600923, 0.01519958, 0.17746071,\n",
       "       0.16626175, 0.23440136])"
      ]
     },
     "execution_count": 64,
     "metadata": {},
     "output_type": "execute_result"
    }
   ],
   "source": [
    "from scipy.optimize import minimize\n",
    "\n",
    "def l1(y, y_hat):\n",
    "    return np.abs(y - y_hat)\n",
    "\n",
    "def l2(y, y_hat):\n",
    "    return (y - y_hat)**2\n",
    "\n",
    "class MyLinearModel():    \n",
    "    def predict(self, X):\n",
    "        return X @ self._thetas\n",
    "    \n",
    "    def fit(self, loss_function, X, y):\n",
    "        \"\"\"\n",
    "        Produce the estimated optimal _thetas for the given loss function, \n",
    "        feature matrix X, and observations y.\n",
    "\n",
    "        Parameters\n",
    "        -----------\n",
    "        loss_function: either the squared or absolute loss functions defined above\n",
    "        X: a 2D dataframe (or numpy array) of numeric features (one-hot encoded)\n",
    "        y: a 1D vector of tip amounts\n",
    "\n",
    "        Returns\n",
    "        -----------\n",
    "        The estimate for the optimal theta vector that minimizes our loss\n",
    "        \"\"\"\n",
    "        \n",
    "        number_of_features = X.shape[1]\n",
    "\n",
    "        ## Notes on the following function call which you need to finish:\n",
    "        # \n",
    "        # 0. The starting guess should be some arbitrary array of the correct length.\n",
    "        #    Note the \"number of features\" variable above.\"\n",
    "        # 1. The ... in \"lambda theta: ...\" should be replaced by the average loss if we\n",
    "        #    compute X @ theta. The loss is measured using the given loss function,\n",
    "        #    relative to the observations in the variable y.\n",
    "        \n",
    "        starting_guess = np.zeros(number_of_features)\n",
    "        self._thetas = minimize(lambda theta: \n",
    "                                loss_function(y, X @ theta).mean()\n",
    "                                , x0 = starting_guess)['x']\n",
    "        # Notice above that we extract the 'x' entry in the dictionary returned by `minimize`. \n",
    "        # This entry corresponds to the optimal theta estimated by the function. Sorry\n",
    "        # we know it's a little confusing, but 'x' is hard coded into the minimize function\n",
    "        # because of the fact that in the optimization universe \"x\" is what you optimize over.\n",
    "        # It'd be less confusing for DS100 students if they used \"theta\".\n",
    "        \n",
    "# When you run the code below, you should get back some non zero thetas.\n",
    "        \n",
    "model = MyLinearModel()\n",
    "model.fit(l2, one_hot_X, tips)\n",
    "model._thetas"
   ]
  },
  {
   "cell_type": "code",
   "execution_count": 65,
   "metadata": {
    "deletable": false,
    "editable": false
   },
   "outputs": [
    {
     "data": {
      "text/html": [
       "<p><strong><pre style='display: inline;'>q2</pre></strong> passed!</p>"
      ],
      "text/plain": [
       "q2 results: All test cases passed!"
      ]
     },
     "execution_count": 65,
     "metadata": {},
     "output_type": "execute_result"
    }
   ],
   "source": [
    "grader.check(\"q2\")"
   ]
  },
  {
   "cell_type": "markdown",
   "metadata": {},
   "source": [
    "The MSE for your model above should be just slightly larger than 1:"
   ]
  },
  {
   "cell_type": "code",
   "execution_count": 66,
   "metadata": {},
   "outputs": [
    {
     "data": {
      "text/plain": [
       "1.0103535612366656"
      ]
     },
     "execution_count": 66,
     "metadata": {},
     "output_type": "execute_result"
    }
   ],
   "source": [
    "from sklearn.metrics import mean_squared_error\n",
    "mean_squared_error(model.predict(one_hot_X), tips)"
   ]
  },
  {
   "cell_type": "markdown",
   "metadata": {
    "nbgrader": {
     "grade": false,
     "grade_id": "q3",
     "locked": true,
     "schema_version": 2,
     "solution": false
    }
   },
   "source": [
    "<br/>\n",
    "<hr style=\"border: 1px solid #fdb515;\" />\n",
    "\n",
    "## Question 3: Fitting the Model using Analytic Methods\n",
    "\n",
    "Let's also fit our model analytically for the L2 loss function. Recall from lecture that with a linear model, we are solving the following optimization problem for least squares:\n",
    "\n",
    "$$\\min_{\\theta} ||\\Bbb{X}\\theta - \\Bbb{y}||^2$$\n",
    "\n",
    "We showed in [Lecture 11](https://docs.google.com/presentation/d/15eEbroVt2r36TXh28C2wm6wgUHlCBCsODR09kLHhDJ8/edit#slide=id.g113dfce000f_0_2682) that the optimal $\\hat{\\theta}$ when $X^TX$ is invertible is given by the equation: $(X^TX)^{-1}X^TY$"
   ]
  },
  {
   "cell_type": "markdown",
   "metadata": {
    "nbgrader": {
     "grade": false,
     "grade_id": "q3a",
     "locked": true,
     "schema_version": 2,
     "solution": false
    }
   },
   "source": [
    "---\n",
    "### Question 3a: Analytic Solution Using Explicit Inverses\n",
    "\n",
    "For this problem, implement the analytic solution above using `np.linalg.inv` to compute the inverse of $X^TX$.\n",
    "\n",
    "Reminder: To compute the transpose of a matrix, you can use `X.T` or `X.transpose()`"
   ]
  },
  {
   "cell_type": "code",
   "execution_count": 67,
   "metadata": {},
   "outputs": [],
   "source": [
    "class MyAnalyticallyFitOLSModel():    \n",
    "    def predict(self, X):\n",
    "        return X @ self._thetas\n",
    "    \n",
    "    def fit(self, X, y):\n",
    "        \"\"\"\n",
    "        Sets _thetas using the analytical solution to the ordinary least squares problem\n",
    "\n",
    "        Parameters\n",
    "        -----------\n",
    "        X: a 2D dataframe (or numpy array) of numeric features (one-hot encoded)\n",
    "        y: a 1D vector of tip amounts\n",
    "\n",
    "        Returns\n",
    "        -----------\n",
    "        The estimate for theta computed using the equation mentioned above\n",
    "        \"\"\"\n",
    "        \n",
    "        xTx = X.T.dot(X)\n",
    "        xTy = X.T.dot(y)\n",
    "        self._thetas = np.linalg.inv(xTx).dot(xTy)\n",
    "\n",
    "        "
   ]
  },
  {
   "cell_type": "markdown",
   "metadata": {},
   "source": [
    "Now, run the cell below to find the analytical solution for the `tips` dataset. Depending on the machine that you run your code on, you should either see a singular matrix error or end up with thetas that are nonsensical (magnitudes greater than 10^15). This is not good!"
   ]
  },
  {
   "cell_type": "code",
   "execution_count": 68,
   "metadata": {},
   "outputs": [
    {
     "data": {
      "text/plain": [
       "array([ 3.15560144e-02, -3.42512280e-01, -3.31032333e+14, -3.31032333e+14,\n",
       "        6.09796402e+14,  6.09796402e+14, -2.78764070e+14, -2.78764070e+14,\n",
       "       -2.78764070e+14, -2.78764070e+14, -1.05000000e+01, -9.50000000e+00])"
      ]
     },
     "execution_count": 68,
     "metadata": {},
     "output_type": "execute_result"
    }
   ],
   "source": [
    "# When you run the code below, you should get back some non zero thetas.\n",
    "        \n",
    "model = MyAnalyticallyFitOLSModel()\n",
    "model.fit(one_hot_X, tips)\n",
    "analytical_thetas = model._thetas\n",
    "analytical_thetas"
   ]
  },
  {
   "cell_type": "markdown",
   "metadata": {
    "deletable": false,
    "editable": false
   },
   "source": [
    "In the cell below, explain why we got the error above when trying to calculate the analytical solution for our one-hot encoded `tips` dataset.\n",
    "\n",
    "<!--\n",
    "BEGIN QUESTION\n",
    "name: q3a\n",
    "-->"
   ]
  },
  {
   "cell_type": "markdown",
   "metadata": {},
   "source": [
    "_Type your answer here, replacing this text._"
   ]
  },
  {
   "cell_type": "markdown",
   "metadata": {
    "deletable": false,
    "editable": false
   },
   "source": [
    "---\n",
    "### Question 3b: Fixing our One-Hot Encoding\n",
    "\n",
    "Now, let's fix our one-hot encoding approach from question 1 so we don't get the error we saw in question 3a. Complete the code below to one-hot-encode our dataset such that `one_hot_X_revised` has no redundant features.\n",
    "\n",
    "<!--\n",
    "BEGIN QUESTION\n",
    "name: q3b\n",
    "-->"
   ]
  },
  {
   "cell_type": "code",
   "execution_count": 69,
   "metadata": {},
   "outputs": [
    {
     "name": "stdout",
     "output_type": "stream",
     "text": [
      "Our numerical model's loss is:  1.0103535621122766\n",
      "Our analytical model's loss is:  1.0103535612257852\n"
     ]
    }
   ],
   "source": [
    "def one_hot_encode_revised(data):\n",
    "    \"\"\"\n",
    "    Return the one-hot encoded dataframe of our input data, removing redundancies.\n",
    "    \n",
    "    Parameters\n",
    "    -----------\n",
    "    data: a dataframe that may include non-numerical features\n",
    "    \n",
    "    Returns\n",
    "    -----------\n",
    "    A one-hot encoded dataframe that only contains numeric features without any redundancies.\n",
    "    \n",
    "    \"\"\"\n",
    "    columns = ['sex', 'smoker', 'day', 'time']\n",
    "    for column in columns:\n",
    "        values = data[column].unique()\n",
    "        for value in values[:-1]:\n",
    "            data[column + '=' + value] = (data[column] == value).astype(int)\n",
    "        data = data.drop(column, axis = 1)\n",
    "    return data\n",
    "    \n",
    "\n",
    "one_hot_X_revised = one_hot_encode_revised(X)    \n",
    "    \n",
    "numerical_model = MyLinearModel()\n",
    "numerical_model.fit(l2, one_hot_X_revised, tips)\n",
    "    \n",
    "analytical_model = MyAnalyticallyFitOLSModel()\n",
    "analytical_model.fit(one_hot_X_revised, tips)\n",
    "\n",
    "\n",
    "print(\"Our numerical model's loss is: \", mean_squared_error(numerical_model.predict(one_hot_X_revised), tips))\n",
    "print(\"Our analytical model's loss is: \", mean_squared_error(analytical_model.predict(one_hot_X_revised), tips))"
   ]
  },
  {
   "cell_type": "code",
   "execution_count": 70,
   "metadata": {
    "deletable": false,
    "editable": false
   },
   "outputs": [
    {
     "data": {
      "text/html": [
       "<p><strong><pre style='display: inline;'>q3b</pre></strong> passed!</p>"
      ],
      "text/plain": [
       "q3b results: All test cases passed!"
      ]
     },
     "execution_count": 70,
     "metadata": {},
     "output_type": "execute_result"
    }
   ],
   "source": [
    "grader.check(\"q3b\")"
   ]
  },
  {
   "cell_type": "markdown",
   "metadata": {
    "deletable": false,
    "editable": false
   },
   "source": [
    "---\n",
    "### Question 3c: Analyzing our new One-Hot Encoding\n",
    "\n",
    "Why did removing redundancies in our one-hot encoding fix the problem we had in 3a?\n",
    "<!--\n",
    "BEGIN QUESTION\n",
    "name: q3c\n",
    "-->"
   ]
  },
  {
   "cell_type": "markdown",
   "metadata": {},
   "source": [
    "_Type your answer here, replacing this text._"
   ]
  },
  {
   "cell_type": "markdown",
   "metadata": {},
   "source": [
    "---\n",
    "\n",
    "Note: An alternate approach is to use `np.linalg.solve` instead of `np.linalg.inv`. For the example above, even with the redundant features, `np.linalg.solve` will work well. Though in general, it's best to drop redundant features anyway.\n",
    "\n",
    "In case you want to learn more, here is a relevant Stack Overflow post: https://stackoverflow.com/questions/31256252/why-does-numpy-linalg-solve-offer-more-precise-matrix-inversions-than-numpy-li"
   ]
  },
  {
   "cell_type": "markdown",
   "metadata": {},
   "source": [
    "<br/>\n",
    "<hr style=\"border: 1px solid #fdb515;\" />\n",
    "\n",
    "## Question 4: Gradient Descent"
   ]
  },
  {
   "cell_type": "code",
   "execution_count": 71,
   "metadata": {},
   "outputs": [
    {
     "data": {
      "text/html": [
       "<div>\n",
       "<style scoped>\n",
       "    .dataframe tbody tr th:only-of-type {\n",
       "        vertical-align: middle;\n",
       "    }\n",
       "\n",
       "    .dataframe tbody tr th {\n",
       "        vertical-align: top;\n",
       "    }\n",
       "\n",
       "    .dataframe thead th {\n",
       "        text-align: right;\n",
       "    }\n",
       "</style>\n",
       "<table border=\"1\" class=\"dataframe\">\n",
       "  <thead>\n",
       "    <tr style=\"text-align: right;\">\n",
       "      <th></th>\n",
       "      <th>x</th>\n",
       "      <th>y</th>\n",
       "    </tr>\n",
       "  </thead>\n",
       "  <tbody>\n",
       "    <tr>\n",
       "      <th>0</th>\n",
       "      <td>-5.000000</td>\n",
       "      <td>-7.672309</td>\n",
       "    </tr>\n",
       "    <tr>\n",
       "      <th>1</th>\n",
       "      <td>-4.966555</td>\n",
       "      <td>-7.779735</td>\n",
       "    </tr>\n",
       "    <tr>\n",
       "      <th>2</th>\n",
       "      <td>-4.933110</td>\n",
       "      <td>-7.995938</td>\n",
       "    </tr>\n",
       "    <tr>\n",
       "      <th>3</th>\n",
       "      <td>-4.899666</td>\n",
       "      <td>-8.197059</td>\n",
       "    </tr>\n",
       "    <tr>\n",
       "      <th>4</th>\n",
       "      <td>-4.866221</td>\n",
       "      <td>-8.183883</td>\n",
       "    </tr>\n",
       "  </tbody>\n",
       "</table>\n",
       "</div>"
      ],
      "text/plain": [
       "          x         y\n",
       "0 -5.000000 -7.672309\n",
       "1 -4.966555 -7.779735\n",
       "2 -4.933110 -7.995938\n",
       "3 -4.899666 -8.197059\n",
       "4 -4.866221 -8.183883"
      ]
     },
     "execution_count": 71,
     "metadata": {},
     "output_type": "execute_result"
    }
   ],
   "source": [
    "# Run this cell to load the data for this problem\n",
    "df = pd.read_csv(\"lab7_data.csv\", index_col=0)\n",
    "df.head()"
   ]
  },
  {
   "cell_type": "markdown",
   "metadata": {},
   "source": [
    "If we plot this data, we see that there is a clear sinusoidal relationship between x and y."
   ]
  },
  {
   "cell_type": "code",
   "execution_count": 72,
   "metadata": {},
   "outputs": [
    {
     "data": {
      "application/vnd.plotly.v1+json": {
       "config": {
        "plotlyServerURL": "https://plot.ly"
       },
       "data": [
        {
         "hovertemplate": "x=%{x}<br>y=%{y}<extra></extra>",
         "legendgroup": "",
         "marker": {
          "color": "#636efa",
          "symbol": "circle"
         },
         "mode": "markers",
         "name": "",
         "orientation": "v",
         "showlegend": false,
         "type": "scatter",
         "x": [
          -5,
          -4.966555183946488,
          -4.933110367892977,
          -4.8996655518394645,
          -4.866220735785953,
          -4.832775919732441,
          -4.79933110367893,
          -4.765886287625418,
          -4.7324414715719065,
          -4.698996655518394,
          -4.665551839464883,
          -4.632107023411371,
          -4.59866220735786,
          -4.565217391304348,
          -4.531772575250836,
          -4.498327759197324,
          -4.464882943143813,
          -4.431438127090301,
          -4.39799331103679,
          -4.364548494983278,
          -4.331103678929766,
          -4.297658862876254,
          -4.264214046822742,
          -4.230769230769231,
          -4.19732441471572,
          -4.163879598662208,
          -4.130434782608695,
          -4.096989966555184,
          -4.063545150501672,
          -4.030100334448161,
          -3.9966555183946486,
          -3.963210702341138,
          -3.929765886287625,
          -3.896321070234114,
          -3.862876254180602,
          -3.82943143812709,
          -3.7959866220735785,
          -3.7625418060200673,
          -3.729096989966555,
          -3.695652173913044,
          -3.662207357859532,
          -3.62876254180602,
          -3.5953177257525084,
          -3.5618729096989967,
          -3.528428093645485,
          -3.4949832775919734,
          -3.4615384615384617,
          -3.42809364548495,
          -3.3946488294314383,
          -3.361204013377926,
          -3.327759197324415,
          -3.294314381270903,
          -3.260869565217392,
          -3.2274247491638794,
          -3.193979933110368,
          -3.160535117056856,
          -3.127090301003345,
          -3.0936454849498327,
          -3.060200668896321,
          -3.0267558528428093,
          -2.9933110367892977,
          -2.959866220735786,
          -2.9264214046822743,
          -2.8929765886287626,
          -2.859531772575251,
          -2.8260869565217392,
          -2.792642140468228,
          -2.759197324414716,
          -2.725752508361204,
          -2.6923076923076925,
          -2.658862876254181,
          -2.625418060200669,
          -2.591973244147157,
          -2.558528428093646,
          -2.525083612040134,
          -2.491638795986622,
          -2.4581939799331103,
          -2.4247491638795986,
          -2.391304347826087,
          -2.3578595317725752,
          -2.324414715719064,
          -2.290969899665552,
          -2.25752508361204,
          -2.2240802675585285,
          -2.190635451505017,
          -2.157190635451505,
          -2.123745819397993,
          -2.0903010033444818,
          -2.05685618729097,
          -2.0234113712374584,
          -1.9899665551839467,
          -1.956521739130435,
          -1.9230769230769236,
          -1.889632107023412,
          -1.8561872909699,
          -1.8227424749163883,
          -1.7892976588628766,
          -1.7558528428093645,
          -1.7224080267558528,
          -1.6889632107023411,
          -1.6555183946488294,
          -1.6220735785953178,
          -1.588628762541806,
          -1.5551839464882944,
          -1.5217391304347827,
          -1.488294314381271,
          -1.4548494983277591,
          -1.4214046822742477,
          -1.387959866220736,
          -1.3545150501672245,
          -1.3210702341137126,
          -1.287625418060201,
          -1.2541806020066892,
          -1.2207357859531776,
          -1.187290969899666,
          -1.1538461538461542,
          -1.1204013377926425,
          -1.0869565217391308,
          -1.0535117056856187,
          -1.020066889632107,
          -0.9866220735785952,
          -0.953177257525084,
          -0.919732441471572,
          -0.8862876254180607,
          -0.8528428093645486,
          -0.8193979933110374,
          -0.7859531772575252,
          -0.752508361204014,
          -0.7190635451505019,
          -0.6856187290969897,
          -0.6521739130434785,
          -0.6187290969899664,
          -0.5852842809364551,
          -0.551839464882943,
          -0.5183946488294318,
          -0.4849498327759196,
          -0.4515050167224084,
          -0.4180602006688962,
          -0.384615384615385,
          -0.3511705685618729,
          -0.3177257525083616,
          -0.2842809364548495,
          -0.2508361204013383,
          -0.2173913043478261,
          -0.1839464882943149,
          -0.1505016722408028,
          -0.1170568561872915,
          -0.0836120401337794,
          -0.0501672240802681,
          -0.016722408026756,
          0.016722408026756,
          0.0501672240802673,
          0.0836120401337794,
          0.1170568561872906,
          0.1505016722408028,
          0.183946488294314,
          0.2173913043478261,
          0.2508361204013374,
          0.2842809364548495,
          0.3177257525083607,
          0.3511705685618729,
          0.3846153846153841,
          0.4180602006688962,
          0.4515050167224075,
          0.4849498327759196,
          0.5183946488294309,
          0.551839464882943,
          0.5852842809364542,
          0.6187290969899664,
          0.6521739130434776,
          0.6856187290969897,
          0.7190635451505019,
          0.7525083612040131,
          0.7859531772575252,
          0.8193979933110365,
          0.8528428093645486,
          0.8862876254180598,
          0.919732441471572,
          0.9531772575250832,
          0.9866220735785952,
          1.0200668896321066,
          1.0535117056856187,
          1.08695652173913,
          1.120401337792642,
          1.1538461538461533,
          1.1872909698996654,
          1.2207357859531769,
          1.2541806020066888,
          1.2876254180602,
          1.3210702341137122,
          1.3545150501672234,
          1.3879598662207355,
          1.4214046822742468,
          1.454849498327759,
          1.488294314381271,
          1.5217391304347825,
          1.5551839464882944,
          1.5886287625418056,
          1.6220735785953178,
          1.655518394648829,
          1.6889632107023411,
          1.7224080267558524,
          1.7558528428093645,
          1.7892976588628755,
          1.822742474916388,
          1.856187290969899,
          1.8896321070234112,
          1.9230769230769225,
          1.9565217391304344,
          1.9899665551839456,
          2.023411371237458,
          2.056856187290969,
          2.0903010033444813,
          2.123745819397993,
          2.1571906354515047,
          2.190635451505017,
          2.224080267558528,
          2.25752508361204,
          2.2909698996655514,
          2.324414715719064,
          2.357859531772575,
          2.391304347826087,
          2.424749163879598,
          2.4581939799331103,
          2.491638795986621,
          2.5250836120401337,
          2.558528428093645,
          2.591973244147157,
          2.6254180602006683,
          2.6588628762541804,
          2.692307692307692,
          2.725752508361204,
          2.759197324414715,
          2.792642140468227,
          2.8260869565217384,
          2.8595317725752505,
          2.8929765886287626,
          2.926421404682274,
          2.959866220735786,
          2.993311036789297,
          3.0267558528428093,
          3.060200668896321,
          3.093645484949832,
          3.127090301003344,
          3.160535117056856,
          3.193979933110368,
          3.2274247491638786,
          3.2608695652173907,
          3.294314381270903,
          3.327759197324415,
          3.3612040133779253,
          3.3946488294314374,
          3.428093645484949,
          3.4615384615384617,
          3.494983277591972,
          3.528428093645484,
          3.5618729096989963,
          3.5953177257525084,
          3.628762541806021,
          3.662207357859531,
          3.695652173913043,
          3.729096989966555,
          3.7625418060200673,
          3.7959866220735776,
          3.8294314381270897,
          3.862876254180602,
          3.896321070234114,
          3.929765886287624,
          3.963210702341137,
          3.9966555183946486,
          4.030100334448161,
          4.063545150501671,
          4.096989966555183,
          4.130434782608695,
          4.163879598662208,
          4.197324414715718,
          4.23076923076923,
          4.264214046822742,
          4.297658862876254,
          4.331103678929766,
          4.364548494983277,
          4.397993311036789,
          4.431438127090301,
          4.464882943143813,
          4.498327759197323,
          4.531772575250836,
          4.565217391304348,
          4.59866220735786,
          4.63210702341137,
          4.665551839464882,
          4.698996655518394,
          4.7324414715719065,
          4.765886287625417,
          4.799331103678929,
          4.832775919732441,
          4.866220735785953,
          4.899665551839464,
          4.933110367892976,
          4.966555183946488,
          5
         ],
         "xaxis": "x",
         "y": [
          -7.672309213774009,
          -7.779734517785404,
          -7.995938349837362,
          -8.197058502287891,
          -8.183883447872761,
          -8.294583870428044,
          -8.789108619905587,
          -8.131185000490298,
          -8.367926232188761,
          -8.449548670279784,
          -7.686395062809118,
          -7.884779111713495,
          -7.40758370858694,
          -8.149296368695282,
          -7.698753306457693,
          -7.209703841645482,
          -7.693224736041597,
          -7.005247350337088,
          -7.35998974810165,
          -6.750680240727842,
          -7.424931134387076,
          -5.717106515468041,
          -5.827572739109059,
          -7.022723259587224,
          -6.477762669231767,
          -6.53792094309406,
          -6.199351168608523,
          -5.4012444332555765,
          -5.183321367758454,
          -4.94806613595341,
          -5.9588670139285576,
          -5.055988335965847,
          -6.163280337718589,
          -5.260652226427859,
          -4.461189588769009,
          -4.250469942862925,
          -5.188735791213787,
          -5.509146146562051,
          -4.97235048877106,
          -5.333269655765433,
          -3.9572248387125937,
          -4.149055664493958,
          -4.955874457859213,
          -4.030243685843214,
          -4.332176030245413,
          -4.817008349132875,
          -4.564804163660334,
          -5.401765804464134,
          -4.520446071854519,
          -4.27990572791023,
          -4.675812677586517,
          -4.393284560723114,
          -5.277742639388693,
          -4.664473786357007,
          -4.807266064507394,
          -5.159392872069294,
          -4.309277719586534,
          -4.471369501600405,
          -4.708165528460132,
          -4.929656467128833,
          -5.615534766039346,
          -5.160540519430589,
          -4.776761441232219,
          -5.120531985395963,
          -4.913984192307944,
          -3.865417505752173,
          -4.966301571707113,
          -5.4181562216860994,
          -5.604518870906897,
          -4.549535794045196,
          -6.037714671062444,
          -5.637273709249072,
          -4.805312244471921,
          -5.369504407253398,
          -4.437171109196206,
          -5.074797374667527,
          -4.401868897942774,
          -3.870948037042624,
          -3.73656975378285,
          -3.410294574388121,
          -5.009897240248489,
          -4.329097343769474,
          -3.693665318257521,
          -4.40187841033484,
          -2.85933921633624,
          -4.104011167303041,
          -4.204385884659721,
          -2.1637722289643784,
          -2.9906338204849816,
          -2.758585168375083,
          -2.2545644043728204,
          -2.8846913733782547,
          -2.984782294930396,
          -2.5929994205605147,
          -2.77927772322337,
          -2.71500722878401,
          -2.010241067993213,
          -1.656310417608073,
          -0.7787045703792018,
          -1.269951865892921,
          -1.792748804012821,
          -1.9537146428903247,
          -1.1788960734769738,
          -1.5277154372456878,
          -1.1807087726330094,
          -1.568517660472828,
          -1.3506035893989303,
          -1.391697769760479,
          -1.047282746349446,
          -1.5772821642656252,
          -1.570785251369731,
          -2.41943797541992,
          -1.185078881556551,
          -1.914408856085967,
          -1.0601700787657118,
          -1.2815944343706038,
          -1.519087507875585,
          -1.4238067886295132,
          -1.6438780349509858,
          -1.6223090507647782,
          -1.087078686084135,
          -1.5173404698624795,
          -1.5562788624728698,
          -2.141827830142496,
          -1.9259234491491928,
          -2.4156167655487257,
          -1.3251559408775493,
          -1.6793890261642763,
          -2.0297116584088037,
          -1.4923405710697517,
          -1.632846009613218,
          -2.021118449630693,
          -2.217881831090392,
          -1.3434477416665287,
          -1.7481642321152326,
          -1.4218297444923564,
          -0.9642400092872936,
          -1.70266315254424,
          -1.829807953156089,
          -1.8367241904226752,
          -1.4706344679958103,
          -1.4433084677515662,
          -1.7518816168986122,
          -1.4509022323444576,
          -1.4237708901966324,
          -1.0520683358219507,
          -0.667107565897173,
          -0.5886674953043197,
          -0.6775625952018157,
          0.984683650961996,
          0.4517802664309152,
          0.5006010640927224,
          -0.1842110064761587,
          0.3787570984061928,
          1.1836477922281108,
          0.3964239987822318,
          0.7124193586625436,
          1.182384197477731,
          0.6713989809047876,
          1.274450951826059,
          1.553143722667457,
          1.6995591203361309,
          2.023466974732528,
          1.9457019612332904,
          2.360545691627678,
          1.5906123866048576,
          1.859388827635383,
          1.7401020511193372,
          1.6162257782761629,
          1.2606821159072197,
          2.0430388764224645,
          1.662330670627664,
          2.4611406877256683,
          1.253465329713654,
          2.602333158981674,
          1.6141211682630343,
          1.9364307898997648,
          2.030599961694973,
          1.5494988196309636,
          1.0758074888131886,
          1.552207339783204,
          1.604919429177967,
          1.3333485513235692,
          1.8945712789194569,
          1.2566138414330137,
          1.5406524404853896,
          0.5330736677012181,
          1.2606873376969794,
          0.9355046257550714,
          1.3128779872238985,
          1.2874848106399044,
          1.6031251662584318,
          1.543072748025539,
          0.913605638569292,
          0.612453777025363,
          1.0997520967804328,
          1.9012860881991824,
          1.1485754340483532,
          1.182335352296918,
          3.0169882275133157,
          1.734916616051607,
          1.4755744291073905,
          1.0420459334182426,
          2.4507017557143023,
          1.8611867314605468,
          2.182766771758988,
          2.388071446532565,
          2.608817389506666,
          2.6211165439148685,
          2.1780311793948126,
          2.8536503165000946,
          2.9411228690611684,
          3.4831597253719,
          4.183737623378804,
          4.5578448014735065,
          3.4886458739686605,
          3.681304139466065,
          4.310766278752113,
          3.59450365339081,
          3.9825236292003225,
          3.830213475022972,
          5.078307699143146,
          4.143829465853275,
          3.716069871102355,
          4.02996653723164,
          5.45493886582055,
          5.182681971943008,
          5.17348565231972,
          4.87477879523013,
          4.690408384606235,
          6.639340931336671,
          5.112897749542114,
          4.947203785190758,
          4.530416700222474,
          5.513651518454388,
          5.442692650922263,
          4.963096760905224,
          4.241634389279237,
          5.139646117289144,
          5.18015105108955,
          5.27063280895599,
          4.761049843968934,
          5.179895453080157,
          4.965352381386266,
          4.768604010450766,
          4.325603132362003,
          4.833247769037616,
          4.965001813623925,
          4.236454731729646,
          4.2087163693574725,
          3.822595174084512,
          3.388416719809559,
          5.05696645106742,
          4.761756934740643,
          4.861548761494364,
          4.614557121605502,
          4.936091262417548,
          4.408254404277195,
          4.312879506437206,
          4.295432037476273,
          4.557371279896795,
          4.040390885252911,
          4.692542998436527,
          5.17447103318766,
          5.735624901448761,
          5.83169364315838,
          5.098716575694279,
          5.757807223192957,
          6.08636225308439,
          5.033503496010061,
          5.031456052475531,
          5.920430610451941,
          6.202758312938776,
          6.141915269649664,
          5.568159510857342,
          6.870091033079695,
          6.612020089918684,
          5.769394173124921,
          6.5472339544915625,
          6.801129477791633,
          7.115814326994783,
          7.314097300906174,
          7.487299400104616,
          6.907759933614441,
          8.138754857688127,
          7.573584031360379,
          7.852216707944286,
          8.67279663803172,
          6.938632740546129,
          8.543895611158147,
          8.684529212060736,
          8.059800504661863,
          8.60945170862109,
          8.232467731487317,
          7.411797223660793,
          9.195919508646542,
          7.903161289593162,
          7.935815930850479,
          8.809675031622321,
          8.01053214752323
         ],
         "yaxis": "y"
        }
       ],
       "layout": {
        "autosize": true,
        "legend": {
         "tracegroupgap": 0
        },
        "margin": {
         "t": 60
        },
        "template": {
         "data": {
          "bar": [
           {
            "error_x": {
             "color": "#2a3f5f"
            },
            "error_y": {
             "color": "#2a3f5f"
            },
            "marker": {
             "line": {
              "color": "#E5ECF6",
              "width": 0.5
             },
             "pattern": {
              "fillmode": "overlay",
              "size": 10,
              "solidity": 0.2
             }
            },
            "type": "bar"
           }
          ],
          "barpolar": [
           {
            "marker": {
             "line": {
              "color": "#E5ECF6",
              "width": 0.5
             },
             "pattern": {
              "fillmode": "overlay",
              "size": 10,
              "solidity": 0.2
             }
            },
            "type": "barpolar"
           }
          ],
          "carpet": [
           {
            "aaxis": {
             "endlinecolor": "#2a3f5f",
             "gridcolor": "white",
             "linecolor": "white",
             "minorgridcolor": "white",
             "startlinecolor": "#2a3f5f"
            },
            "baxis": {
             "endlinecolor": "#2a3f5f",
             "gridcolor": "white",
             "linecolor": "white",
             "minorgridcolor": "white",
             "startlinecolor": "#2a3f5f"
            },
            "type": "carpet"
           }
          ],
          "choropleth": [
           {
            "colorbar": {
             "outlinewidth": 0,
             "ticks": ""
            },
            "type": "choropleth"
           }
          ],
          "contour": [
           {
            "colorbar": {
             "outlinewidth": 0,
             "ticks": ""
            },
            "colorscale": [
             [
              0,
              "#0d0887"
             ],
             [
              0.1111111111111111,
              "#46039f"
             ],
             [
              0.2222222222222222,
              "#7201a8"
             ],
             [
              0.3333333333333333,
              "#9c179e"
             ],
             [
              0.4444444444444444,
              "#bd3786"
             ],
             [
              0.5555555555555556,
              "#d8576b"
             ],
             [
              0.6666666666666666,
              "#ed7953"
             ],
             [
              0.7777777777777778,
              "#fb9f3a"
             ],
             [
              0.8888888888888888,
              "#fdca26"
             ],
             [
              1,
              "#f0f921"
             ]
            ],
            "type": "contour"
           }
          ],
          "contourcarpet": [
           {
            "colorbar": {
             "outlinewidth": 0,
             "ticks": ""
            },
            "type": "contourcarpet"
           }
          ],
          "heatmap": [
           {
            "colorbar": {
             "outlinewidth": 0,
             "ticks": ""
            },
            "colorscale": [
             [
              0,
              "#0d0887"
             ],
             [
              0.1111111111111111,
              "#46039f"
             ],
             [
              0.2222222222222222,
              "#7201a8"
             ],
             [
              0.3333333333333333,
              "#9c179e"
             ],
             [
              0.4444444444444444,
              "#bd3786"
             ],
             [
              0.5555555555555556,
              "#d8576b"
             ],
             [
              0.6666666666666666,
              "#ed7953"
             ],
             [
              0.7777777777777778,
              "#fb9f3a"
             ],
             [
              0.8888888888888888,
              "#fdca26"
             ],
             [
              1,
              "#f0f921"
             ]
            ],
            "type": "heatmap"
           }
          ],
          "heatmapgl": [
           {
            "colorbar": {
             "outlinewidth": 0,
             "ticks": ""
            },
            "colorscale": [
             [
              0,
              "#0d0887"
             ],
             [
              0.1111111111111111,
              "#46039f"
             ],
             [
              0.2222222222222222,
              "#7201a8"
             ],
             [
              0.3333333333333333,
              "#9c179e"
             ],
             [
              0.4444444444444444,
              "#bd3786"
             ],
             [
              0.5555555555555556,
              "#d8576b"
             ],
             [
              0.6666666666666666,
              "#ed7953"
             ],
             [
              0.7777777777777778,
              "#fb9f3a"
             ],
             [
              0.8888888888888888,
              "#fdca26"
             ],
             [
              1,
              "#f0f921"
             ]
            ],
            "type": "heatmapgl"
           }
          ],
          "histogram": [
           {
            "marker": {
             "pattern": {
              "fillmode": "overlay",
              "size": 10,
              "solidity": 0.2
             }
            },
            "type": "histogram"
           }
          ],
          "histogram2d": [
           {
            "colorbar": {
             "outlinewidth": 0,
             "ticks": ""
            },
            "colorscale": [
             [
              0,
              "#0d0887"
             ],
             [
              0.1111111111111111,
              "#46039f"
             ],
             [
              0.2222222222222222,
              "#7201a8"
             ],
             [
              0.3333333333333333,
              "#9c179e"
             ],
             [
              0.4444444444444444,
              "#bd3786"
             ],
             [
              0.5555555555555556,
              "#d8576b"
             ],
             [
              0.6666666666666666,
              "#ed7953"
             ],
             [
              0.7777777777777778,
              "#fb9f3a"
             ],
             [
              0.8888888888888888,
              "#fdca26"
             ],
             [
              1,
              "#f0f921"
             ]
            ],
            "type": "histogram2d"
           }
          ],
          "histogram2dcontour": [
           {
            "colorbar": {
             "outlinewidth": 0,
             "ticks": ""
            },
            "colorscale": [
             [
              0,
              "#0d0887"
             ],
             [
              0.1111111111111111,
              "#46039f"
             ],
             [
              0.2222222222222222,
              "#7201a8"
             ],
             [
              0.3333333333333333,
              "#9c179e"
             ],
             [
              0.4444444444444444,
              "#bd3786"
             ],
             [
              0.5555555555555556,
              "#d8576b"
             ],
             [
              0.6666666666666666,
              "#ed7953"
             ],
             [
              0.7777777777777778,
              "#fb9f3a"
             ],
             [
              0.8888888888888888,
              "#fdca26"
             ],
             [
              1,
              "#f0f921"
             ]
            ],
            "type": "histogram2dcontour"
           }
          ],
          "mesh3d": [
           {
            "colorbar": {
             "outlinewidth": 0,
             "ticks": ""
            },
            "type": "mesh3d"
           }
          ],
          "parcoords": [
           {
            "line": {
             "colorbar": {
              "outlinewidth": 0,
              "ticks": ""
             }
            },
            "type": "parcoords"
           }
          ],
          "pie": [
           {
            "automargin": true,
            "type": "pie"
           }
          ],
          "scatter": [
           {
            "marker": {
             "colorbar": {
              "outlinewidth": 0,
              "ticks": ""
             }
            },
            "type": "scatter"
           }
          ],
          "scatter3d": [
           {
            "line": {
             "colorbar": {
              "outlinewidth": 0,
              "ticks": ""
             }
            },
            "marker": {
             "colorbar": {
              "outlinewidth": 0,
              "ticks": ""
             }
            },
            "type": "scatter3d"
           }
          ],
          "scattercarpet": [
           {
            "marker": {
             "colorbar": {
              "outlinewidth": 0,
              "ticks": ""
             }
            },
            "type": "scattercarpet"
           }
          ],
          "scattergeo": [
           {
            "marker": {
             "colorbar": {
              "outlinewidth": 0,
              "ticks": ""
             }
            },
            "type": "scattergeo"
           }
          ],
          "scattergl": [
           {
            "marker": {
             "colorbar": {
              "outlinewidth": 0,
              "ticks": ""
             }
            },
            "type": "scattergl"
           }
          ],
          "scattermapbox": [
           {
            "marker": {
             "colorbar": {
              "outlinewidth": 0,
              "ticks": ""
             }
            },
            "type": "scattermapbox"
           }
          ],
          "scatterpolar": [
           {
            "marker": {
             "colorbar": {
              "outlinewidth": 0,
              "ticks": ""
             }
            },
            "type": "scatterpolar"
           }
          ],
          "scatterpolargl": [
           {
            "marker": {
             "colorbar": {
              "outlinewidth": 0,
              "ticks": ""
             }
            },
            "type": "scatterpolargl"
           }
          ],
          "scatterternary": [
           {
            "marker": {
             "colorbar": {
              "outlinewidth": 0,
              "ticks": ""
             }
            },
            "type": "scatterternary"
           }
          ],
          "surface": [
           {
            "colorbar": {
             "outlinewidth": 0,
             "ticks": ""
            },
            "colorscale": [
             [
              0,
              "#0d0887"
             ],
             [
              0.1111111111111111,
              "#46039f"
             ],
             [
              0.2222222222222222,
              "#7201a8"
             ],
             [
              0.3333333333333333,
              "#9c179e"
             ],
             [
              0.4444444444444444,
              "#bd3786"
             ],
             [
              0.5555555555555556,
              "#d8576b"
             ],
             [
              0.6666666666666666,
              "#ed7953"
             ],
             [
              0.7777777777777778,
              "#fb9f3a"
             ],
             [
              0.8888888888888888,
              "#fdca26"
             ],
             [
              1,
              "#f0f921"
             ]
            ],
            "type": "surface"
           }
          ],
          "table": [
           {
            "cells": {
             "fill": {
              "color": "#EBF0F8"
             },
             "line": {
              "color": "white"
             }
            },
            "header": {
             "fill": {
              "color": "#C8D4E3"
             },
             "line": {
              "color": "white"
             }
            },
            "type": "table"
           }
          ]
         },
         "layout": {
          "annotationdefaults": {
           "arrowcolor": "#2a3f5f",
           "arrowhead": 0,
           "arrowwidth": 1
          },
          "autotypenumbers": "strict",
          "coloraxis": {
           "colorbar": {
            "outlinewidth": 0,
            "ticks": ""
           }
          },
          "colorscale": {
           "diverging": [
            [
             0,
             "#8e0152"
            ],
            [
             0.1,
             "#c51b7d"
            ],
            [
             0.2,
             "#de77ae"
            ],
            [
             0.3,
             "#f1b6da"
            ],
            [
             0.4,
             "#fde0ef"
            ],
            [
             0.5,
             "#f7f7f7"
            ],
            [
             0.6,
             "#e6f5d0"
            ],
            [
             0.7,
             "#b8e186"
            ],
            [
             0.8,
             "#7fbc41"
            ],
            [
             0.9,
             "#4d9221"
            ],
            [
             1,
             "#276419"
            ]
           ],
           "sequential": [
            [
             0,
             "#0d0887"
            ],
            [
             0.1111111111111111,
             "#46039f"
            ],
            [
             0.2222222222222222,
             "#7201a8"
            ],
            [
             0.3333333333333333,
             "#9c179e"
            ],
            [
             0.4444444444444444,
             "#bd3786"
            ],
            [
             0.5555555555555556,
             "#d8576b"
            ],
            [
             0.6666666666666666,
             "#ed7953"
            ],
            [
             0.7777777777777778,
             "#fb9f3a"
            ],
            [
             0.8888888888888888,
             "#fdca26"
            ],
            [
             1,
             "#f0f921"
            ]
           ],
           "sequentialminus": [
            [
             0,
             "#0d0887"
            ],
            [
             0.1111111111111111,
             "#46039f"
            ],
            [
             0.2222222222222222,
             "#7201a8"
            ],
            [
             0.3333333333333333,
             "#9c179e"
            ],
            [
             0.4444444444444444,
             "#bd3786"
            ],
            [
             0.5555555555555556,
             "#d8576b"
            ],
            [
             0.6666666666666666,
             "#ed7953"
            ],
            [
             0.7777777777777778,
             "#fb9f3a"
            ],
            [
             0.8888888888888888,
             "#fdca26"
            ],
            [
             1,
             "#f0f921"
            ]
           ]
          },
          "colorway": [
           "#636efa",
           "#EF553B",
           "#00cc96",
           "#ab63fa",
           "#FFA15A",
           "#19d3f3",
           "#FF6692",
           "#B6E880",
           "#FF97FF",
           "#FECB52"
          ],
          "font": {
           "color": "#2a3f5f"
          },
          "geo": {
           "bgcolor": "white",
           "lakecolor": "white",
           "landcolor": "#E5ECF6",
           "showlakes": true,
           "showland": true,
           "subunitcolor": "white"
          },
          "hoverlabel": {
           "align": "left"
          },
          "hovermode": "closest",
          "mapbox": {
           "style": "light"
          },
          "paper_bgcolor": "white",
          "plot_bgcolor": "#E5ECF6",
          "polar": {
           "angularaxis": {
            "gridcolor": "white",
            "linecolor": "white",
            "ticks": ""
           },
           "bgcolor": "#E5ECF6",
           "radialaxis": {
            "gridcolor": "white",
            "linecolor": "white",
            "ticks": ""
           }
          },
          "scene": {
           "xaxis": {
            "backgroundcolor": "#E5ECF6",
            "gridcolor": "white",
            "gridwidth": 2,
            "linecolor": "white",
            "showbackground": true,
            "ticks": "",
            "zerolinecolor": "white"
           },
           "yaxis": {
            "backgroundcolor": "#E5ECF6",
            "gridcolor": "white",
            "gridwidth": 2,
            "linecolor": "white",
            "showbackground": true,
            "ticks": "",
            "zerolinecolor": "white"
           },
           "zaxis": {
            "backgroundcolor": "#E5ECF6",
            "gridcolor": "white",
            "gridwidth": 2,
            "linecolor": "white",
            "showbackground": true,
            "ticks": "",
            "zerolinecolor": "white"
           }
          },
          "shapedefaults": {
           "line": {
            "color": "#2a3f5f"
           }
          },
          "ternary": {
           "aaxis": {
            "gridcolor": "white",
            "linecolor": "white",
            "ticks": ""
           },
           "baxis": {
            "gridcolor": "white",
            "linecolor": "white",
            "ticks": ""
           },
           "bgcolor": "#E5ECF6",
           "caxis": {
            "gridcolor": "white",
            "linecolor": "white",
            "ticks": ""
           }
          },
          "title": {
           "x": 0.05
          },
          "xaxis": {
           "automargin": true,
           "gridcolor": "white",
           "linecolor": "white",
           "ticks": "",
           "title": {
            "standoff": 15
           },
           "zerolinecolor": "white",
           "zerolinewidth": 2
          },
          "yaxis": {
           "automargin": true,
           "gridcolor": "white",
           "linecolor": "white",
           "ticks": "",
           "title": {
            "standoff": 15
           },
           "zerolinecolor": "white",
           "zerolinewidth": 2
          }
         }
        },
        "xaxis": {
         "anchor": "y",
         "autorange": true,
         "domain": [
          0,
          1
         ],
         "range": [
          -5.628044537230341,
          5.628044537230341
         ],
         "title": {
          "text": "x"
         },
         "type": "linear"
        },
        "yaxis": {
         "anchor": "x",
         "autorange": true,
         "domain": [
          0,
          1
         ],
         "range": [
          -10.18165016791684,
          10.588461056657795
         ],
         "title": {
          "text": "y"
         },
         "type": "linear"
        }
       }
      },
      "image/png": "[encoded data removed]",
      "text/html": [
       "<div>                            <div id=\"f2af90cd-ebbb-42bb-8bbd-322f46ae841c\" class=\"plotly-graph-div\" style=\"height:525px; width:100%;\"></div>            <script type=\"text/javascript\">                require([\"plotly\"], function(Plotly) {                    window.PLOTLYENV=window.PLOTLYENV || {};                                    if (document.getElementById(\"f2af90cd-ebbb-42bb-8bbd-322f46ae841c\")) {                    Plotly.newPlot(                        \"f2af90cd-ebbb-42bb-8bbd-322f46ae841c\",                        [{\"hovertemplate\":\"x=%{x}<br>y=%{y}<extra></extra>\",\"legendgroup\":\"\",\"marker\":{\"color\":\"#636efa\",\"symbol\":\"circle\"},\"mode\":\"markers\",\"name\":\"\",\"orientation\":\"v\",\"showlegend\":false,\"type\":\"scatter\",\"x\":[-5.0,-4.966555183946488,-4.933110367892977,-4.8996655518394645,-4.866220735785953,-4.832775919732441,-4.79933110367893,-4.765886287625418,-4.7324414715719065,-4.698996655518394,-4.665551839464883,-4.632107023411371,-4.59866220735786,-4.565217391304348,-4.531772575250836,-4.498327759197324,-4.464882943143813,-4.431438127090301,-4.39799331103679,-4.364548494983278,-4.331103678929766,-4.297658862876254,-4.264214046822742,-4.230769230769231,-4.19732441471572,-4.163879598662208,-4.130434782608695,-4.096989966555184,-4.063545150501672,-4.030100334448161,-3.9966555183946486,-3.963210702341138,-3.929765886287625,-3.896321070234114,-3.862876254180602,-3.82943143812709,-3.7959866220735785,-3.7625418060200673,-3.729096989966555,-3.695652173913044,-3.662207357859532,-3.62876254180602,-3.5953177257525084,-3.5618729096989967,-3.528428093645485,-3.4949832775919734,-3.4615384615384617,-3.42809364548495,-3.3946488294314383,-3.361204013377926,-3.327759197324415,-3.294314381270903,-3.260869565217392,-3.2274247491638794,-3.193979933110368,-3.160535117056856,-3.127090301003345,-3.0936454849498327,-3.060200668896321,-3.0267558528428093,-2.9933110367892977,-2.959866220735786,-2.9264214046822743,-2.8929765886287626,-2.859531772575251,-2.8260869565217392,-2.792642140468228,-2.759197324414716,-2.725752508361204,-2.6923076923076925,-2.658862876254181,-2.625418060200669,-2.591973244147157,-2.558528428093646,-2.525083612040134,-2.491638795986622,-2.4581939799331103,-2.4247491638795986,-2.391304347826087,-2.3578595317725752,-2.324414715719064,-2.290969899665552,-2.25752508361204,-2.2240802675585285,-2.190635451505017,-2.157190635451505,-2.123745819397993,-2.0903010033444818,-2.05685618729097,-2.0234113712374584,-1.9899665551839467,-1.956521739130435,-1.9230769230769236,-1.889632107023412,-1.8561872909699,-1.8227424749163883,-1.7892976588628766,-1.7558528428093645,-1.7224080267558528,-1.6889632107023411,-1.6555183946488294,-1.6220735785953178,-1.588628762541806,-1.5551839464882944,-1.5217391304347827,-1.488294314381271,-1.4548494983277591,-1.4214046822742477,-1.387959866220736,-1.3545150501672245,-1.3210702341137126,-1.287625418060201,-1.2541806020066892,-1.2207357859531776,-1.187290969899666,-1.1538461538461542,-1.1204013377926425,-1.0869565217391308,-1.0535117056856187,-1.020066889632107,-0.9866220735785952,-0.953177257525084,-0.919732441471572,-0.8862876254180607,-0.8528428093645486,-0.8193979933110374,-0.7859531772575252,-0.752508361204014,-0.7190635451505019,-0.6856187290969897,-0.6521739130434785,-0.6187290969899664,-0.5852842809364551,-0.551839464882943,-0.5183946488294318,-0.4849498327759196,-0.4515050167224084,-0.4180602006688962,-0.384615384615385,-0.3511705685618729,-0.3177257525083616,-0.2842809364548495,-0.2508361204013383,-0.2173913043478261,-0.1839464882943149,-0.1505016722408028,-0.1170568561872915,-0.0836120401337794,-0.0501672240802681,-0.016722408026756,0.016722408026756,0.0501672240802673,0.0836120401337794,0.1170568561872906,0.1505016722408028,0.183946488294314,0.2173913043478261,0.2508361204013374,0.2842809364548495,0.3177257525083607,0.3511705685618729,0.3846153846153841,0.4180602006688962,0.4515050167224075,0.4849498327759196,0.5183946488294309,0.551839464882943,0.5852842809364542,0.6187290969899664,0.6521739130434776,0.6856187290969897,0.7190635451505019,0.7525083612040131,0.7859531772575252,0.8193979933110365,0.8528428093645486,0.8862876254180598,0.919732441471572,0.9531772575250832,0.9866220735785952,1.0200668896321066,1.0535117056856187,1.08695652173913,1.120401337792642,1.1538461538461533,1.1872909698996654,1.2207357859531769,1.2541806020066888,1.2876254180602,1.3210702341137122,1.3545150501672234,1.3879598662207355,1.4214046822742468,1.454849498327759,1.488294314381271,1.5217391304347825,1.5551839464882944,1.5886287625418056,1.6220735785953178,1.655518394648829,1.6889632107023411,1.7224080267558524,1.7558528428093645,1.7892976588628755,1.822742474916388,1.856187290969899,1.8896321070234112,1.9230769230769225,1.9565217391304344,1.9899665551839456,2.023411371237458,2.056856187290969,2.0903010033444813,2.123745819397993,2.1571906354515047,2.190635451505017,2.224080267558528,2.25752508361204,2.2909698996655514,2.324414715719064,2.357859531772575,2.391304347826087,2.424749163879598,2.4581939799331103,2.491638795986621,2.5250836120401337,2.558528428093645,2.591973244147157,2.6254180602006683,2.6588628762541804,2.692307692307692,2.725752508361204,2.759197324414715,2.792642140468227,2.8260869565217384,2.8595317725752505,2.8929765886287626,2.926421404682274,2.959866220735786,2.993311036789297,3.0267558528428093,3.060200668896321,3.093645484949832,3.127090301003344,3.160535117056856,3.193979933110368,3.2274247491638786,3.2608695652173907,3.294314381270903,3.327759197324415,3.3612040133779253,3.3946488294314374,3.428093645484949,3.4615384615384617,3.494983277591972,3.528428093645484,3.5618729096989963,3.5953177257525084,3.628762541806021,3.662207357859531,3.695652173913043,3.729096989966555,3.7625418060200673,3.7959866220735776,3.8294314381270897,3.862876254180602,3.896321070234114,3.929765886287624,3.963210702341137,3.9966555183946486,4.030100334448161,4.063545150501671,4.096989966555183,4.130434782608695,4.163879598662208,4.197324414715718,4.23076923076923,4.264214046822742,4.297658862876254,4.331103678929766,4.364548494983277,4.397993311036789,4.431438127090301,4.464882943143813,4.498327759197323,4.531772575250836,4.565217391304348,4.59866220735786,4.63210702341137,4.665551839464882,4.698996655518394,4.7324414715719065,4.765886287625417,4.799331103678929,4.832775919732441,4.866220735785953,4.899665551839464,4.933110367892976,4.966555183946488,5.0],\"xaxis\":\"x\",\"y\":[-7.672309213774009,-7.779734517785404,-7.995938349837362,-8.197058502287891,-8.183883447872761,-8.294583870428044,-8.789108619905587,-8.131185000490298,-8.367926232188761,-8.449548670279784,-7.686395062809118,-7.884779111713495,-7.40758370858694,-8.149296368695282,-7.698753306457693,-7.209703841645482,-7.693224736041597,-7.005247350337088,-7.35998974810165,-6.750680240727842,-7.424931134387076,-5.717106515468041,-5.827572739109059,-7.022723259587224,-6.477762669231767,-6.53792094309406,-6.199351168608523,-5.4012444332555765,-5.183321367758454,-4.94806613595341,-5.9588670139285576,-5.055988335965847,-6.163280337718589,-5.260652226427859,-4.461189588769009,-4.250469942862925,-5.188735791213787,-5.509146146562051,-4.97235048877106,-5.333269655765433,-3.9572248387125937,-4.149055664493958,-4.955874457859213,-4.030243685843214,-4.332176030245413,-4.817008349132875,-4.564804163660334,-5.401765804464134,-4.520446071854519,-4.27990572791023,-4.675812677586517,-4.393284560723114,-5.277742639388693,-4.664473786357007,-4.807266064507394,-5.159392872069294,-4.309277719586534,-4.471369501600405,-4.708165528460132,-4.929656467128833,-5.615534766039346,-5.160540519430589,-4.776761441232219,-5.120531985395963,-4.913984192307944,-3.865417505752173,-4.966301571707113,-5.4181562216860994,-5.604518870906897,-4.549535794045196,-6.037714671062444,-5.637273709249072,-4.805312244471921,-5.369504407253398,-4.437171109196206,-5.074797374667527,-4.401868897942774,-3.870948037042624,-3.73656975378285,-3.410294574388121,-5.009897240248489,-4.329097343769474,-3.693665318257521,-4.40187841033484,-2.85933921633624,-4.104011167303041,-4.204385884659721,-2.1637722289643784,-2.9906338204849816,-2.758585168375083,-2.2545644043728204,-2.8846913733782547,-2.984782294930396,-2.5929994205605147,-2.77927772322337,-2.71500722878401,-2.010241067993213,-1.656310417608073,-0.7787045703792018,-1.269951865892921,-1.792748804012821,-1.9537146428903247,-1.1788960734769738,-1.5277154372456878,-1.1807087726330094,-1.568517660472828,-1.3506035893989303,-1.391697769760479,-1.047282746349446,-1.5772821642656252,-1.570785251369731,-2.41943797541992,-1.185078881556551,-1.914408856085967,-1.0601700787657118,-1.2815944343706038,-1.519087507875585,-1.4238067886295132,-1.6438780349509858,-1.6223090507647782,-1.087078686084135,-1.5173404698624795,-1.5562788624728698,-2.141827830142496,-1.9259234491491928,-2.4156167655487257,-1.3251559408775493,-1.6793890261642763,-2.0297116584088037,-1.4923405710697517,-1.632846009613218,-2.021118449630693,-2.217881831090392,-1.3434477416665287,-1.7481642321152326,-1.4218297444923564,-0.9642400092872936,-1.70266315254424,-1.829807953156089,-1.8367241904226752,-1.4706344679958103,-1.4433084677515662,-1.7518816168986122,-1.4509022323444576,-1.4237708901966324,-1.0520683358219507,-0.667107565897173,-0.5886674953043197,-0.6775625952018157,0.984683650961996,0.4517802664309152,0.5006010640927224,-0.1842110064761587,0.3787570984061928,1.1836477922281108,0.3964239987822318,0.7124193586625436,1.182384197477731,0.6713989809047876,1.274450951826059,1.553143722667457,1.6995591203361309,2.023466974732528,1.9457019612332904,2.360545691627678,1.5906123866048576,1.859388827635383,1.7401020511193372,1.6162257782761629,1.2606821159072197,2.0430388764224645,1.662330670627664,2.4611406877256683,1.253465329713654,2.602333158981674,1.6141211682630343,1.9364307898997648,2.030599961694973,1.5494988196309636,1.0758074888131886,1.552207339783204,1.604919429177967,1.3333485513235692,1.8945712789194569,1.2566138414330137,1.5406524404853896,0.5330736677012181,1.2606873376969794,0.9355046257550714,1.3128779872238985,1.2874848106399044,1.6031251662584318,1.543072748025539,0.913605638569292,0.612453777025363,1.0997520967804328,1.9012860881991824,1.1485754340483532,1.182335352296918,3.0169882275133157,1.734916616051607,1.4755744291073905,1.0420459334182426,2.4507017557143023,1.8611867314605468,2.182766771758988,2.388071446532565,2.608817389506666,2.6211165439148685,2.1780311793948126,2.8536503165000946,2.9411228690611684,3.4831597253719,4.183737623378804,4.5578448014735065,3.4886458739686605,3.681304139466065,4.310766278752113,3.59450365339081,3.9825236292003225,3.830213475022972,5.078307699143146,4.143829465853275,3.716069871102355,4.02996653723164,5.45493886582055,5.182681971943008,5.17348565231972,4.87477879523013,4.690408384606235,6.639340931336671,5.112897749542114,4.947203785190758,4.530416700222474,5.513651518454388,5.442692650922263,4.963096760905224,4.241634389279237,5.139646117289144,5.18015105108955,5.27063280895599,4.761049843968934,5.179895453080157,4.965352381386266,4.768604010450766,4.325603132362003,4.833247769037616,4.965001813623925,4.236454731729646,4.2087163693574725,3.822595174084512,3.388416719809559,5.05696645106742,4.761756934740643,4.861548761494364,4.614557121605502,4.936091262417548,4.408254404277195,4.312879506437206,4.295432037476273,4.557371279896795,4.040390885252911,4.692542998436527,5.17447103318766,5.735624901448761,5.83169364315838,5.098716575694279,5.757807223192957,6.08636225308439,5.033503496010061,5.031456052475531,5.920430610451941,6.202758312938776,6.141915269649664,5.568159510857342,6.870091033079695,6.612020089918684,5.769394173124921,6.5472339544915625,6.801129477791633,7.115814326994783,7.314097300906174,7.487299400104616,6.907759933614441,8.138754857688127,7.573584031360379,7.852216707944286,8.67279663803172,6.938632740546129,8.543895611158147,8.684529212060736,8.059800504661863,8.60945170862109,8.232467731487317,7.411797223660793,9.195919508646542,7.903161289593162,7.935815930850479,8.809675031622321,8.01053214752323],\"yaxis\":\"y\"}],                        {\"legend\":{\"tracegroupgap\":0},\"margin\":{\"t\":60},\"template\":{\"data\":{\"bar\":[{\"error_x\":{\"color\":\"#2a3f5f\"},\"error_y\":{\"color\":\"#2a3f5f\"},\"marker\":{\"line\":{\"color\":\"#E5ECF6\",\"width\":0.5},\"pattern\":{\"fillmode\":\"overlay\",\"size\":10,\"solidity\":0.2}},\"type\":\"bar\"}],\"barpolar\":[{\"marker\":{\"line\":{\"color\":\"#E5ECF6\",\"width\":0.5},\"pattern\":{\"fillmode\":\"overlay\",\"size\":10,\"solidity\":0.2}},\"type\":\"barpolar\"}],\"carpet\":[{\"aaxis\":{\"endlinecolor\":\"#2a3f5f\",\"gridcolor\":\"white\",\"linecolor\":\"white\",\"minorgridcolor\":\"white\",\"startlinecolor\":\"#2a3f5f\"},\"baxis\":{\"endlinecolor\":\"#2a3f5f\",\"gridcolor\":\"white\",\"linecolor\":\"white\",\"minorgridcolor\":\"white\",\"startlinecolor\":\"#2a3f5f\"},\"type\":\"carpet\"}],\"choropleth\":[{\"colorbar\":{\"outlinewidth\":0,\"ticks\":\"\"},\"type\":\"choropleth\"}],\"contour\":[{\"colorbar\":{\"outlinewidth\":0,\"ticks\":\"\"},\"colorscale\":[[0.0,\"#0d0887\"],[0.1111111111111111,\"#46039f\"],[0.2222222222222222,\"#7201a8\"],[0.3333333333333333,\"#9c179e\"],[0.4444444444444444,\"#bd3786\"],[0.5555555555555556,\"#d8576b\"],[0.6666666666666666,\"#ed7953\"],[0.7777777777777778,\"#fb9f3a\"],[0.8888888888888888,\"#fdca26\"],[1.0,\"#f0f921\"]],\"type\":\"contour\"}],\"contourcarpet\":[{\"colorbar\":{\"outlinewidth\":0,\"ticks\":\"\"},\"type\":\"contourcarpet\"}],\"heatmap\":[{\"colorbar\":{\"outlinewidth\":0,\"ticks\":\"\"},\"colorscale\":[[0.0,\"#0d0887\"],[0.1111111111111111,\"#46039f\"],[0.2222222222222222,\"#7201a8\"],[0.3333333333333333,\"#9c179e\"],[0.4444444444444444,\"#bd3786\"],[0.5555555555555556,\"#d8576b\"],[0.6666666666666666,\"#ed7953\"],[0.7777777777777778,\"#fb9f3a\"],[0.8888888888888888,\"#fdca26\"],[1.0,\"#f0f921\"]],\"type\":\"heatmap\"}],\"heatmapgl\":[{\"colorbar\":{\"outlinewidth\":0,\"ticks\":\"\"},\"colorscale\":[[0.0,\"#0d0887\"],[0.1111111111111111,\"#46039f\"],[0.2222222222222222,\"#7201a8\"],[0.3333333333333333,\"#9c179e\"],[0.4444444444444444,\"#bd3786\"],[0.5555555555555556,\"#d8576b\"],[0.6666666666666666,\"#ed7953\"],[0.7777777777777778,\"#fb9f3a\"],[0.8888888888888888,\"#fdca26\"],[1.0,\"#f0f921\"]],\"type\":\"heatmapgl\"}],\"histogram\":[{\"marker\":{\"pattern\":{\"fillmode\":\"overlay\",\"size\":10,\"solidity\":0.2}},\"type\":\"histogram\"}],\"histogram2d\":[{\"colorbar\":{\"outlinewidth\":0,\"ticks\":\"\"},\"colorscale\":[[0.0,\"#0d0887\"],[0.1111111111111111,\"#46039f\"],[0.2222222222222222,\"#7201a8\"],[0.3333333333333333,\"#9c179e\"],[0.4444444444444444,\"#bd3786\"],[0.5555555555555556,\"#d8576b\"],[0.6666666666666666,\"#ed7953\"],[0.7777777777777778,\"#fb9f3a\"],[0.8888888888888888,\"#fdca26\"],[1.0,\"#f0f921\"]],\"type\":\"histogram2d\"}],\"histogram2dcontour\":[{\"colorbar\":{\"outlinewidth\":0,\"ticks\":\"\"},\"colorscale\":[[0.0,\"#0d0887\"],[0.1111111111111111,\"#46039f\"],[0.2222222222222222,\"#7201a8\"],[0.3333333333333333,\"#9c179e\"],[0.4444444444444444,\"#bd3786\"],[0.5555555555555556,\"#d8576b\"],[0.6666666666666666,\"#ed7953\"],[0.7777777777777778,\"#fb9f3a\"],[0.8888888888888888,\"#fdca26\"],[1.0,\"#f0f921\"]],\"type\":\"histogram2dcontour\"}],\"mesh3d\":[{\"colorbar\":{\"outlinewidth\":0,\"ticks\":\"\"},\"type\":\"mesh3d\"}],\"parcoords\":[{\"line\":{\"colorbar\":{\"outlinewidth\":0,\"ticks\":\"\"}},\"type\":\"parcoords\"}],\"pie\":[{\"automargin\":true,\"type\":\"pie\"}],\"scatter\":[{\"marker\":{\"colorbar\":{\"outlinewidth\":0,\"ticks\":\"\"}},\"type\":\"scatter\"}],\"scatter3d\":[{\"line\":{\"colorbar\":{\"outlinewidth\":0,\"ticks\":\"\"}},\"marker\":{\"colorbar\":{\"outlinewidth\":0,\"ticks\":\"\"}},\"type\":\"scatter3d\"}],\"scattercarpet\":[{\"marker\":{\"colorbar\":{\"outlinewidth\":0,\"ticks\":\"\"}},\"type\":\"scattercarpet\"}],\"scattergeo\":[{\"marker\":{\"colorbar\":{\"outlinewidth\":0,\"ticks\":\"\"}},\"type\":\"scattergeo\"}],\"scattergl\":[{\"marker\":{\"colorbar\":{\"outlinewidth\":0,\"ticks\":\"\"}},\"type\":\"scattergl\"}],\"scattermapbox\":[{\"marker\":{\"colorbar\":{\"outlinewidth\":0,\"ticks\":\"\"}},\"type\":\"scattermapbox\"}],\"scatterpolar\":[{\"marker\":{\"colorbar\":{\"outlinewidth\":0,\"ticks\":\"\"}},\"type\":\"scatterpolar\"}],\"scatterpolargl\":[{\"marker\":{\"colorbar\":{\"outlinewidth\":0,\"ticks\":\"\"}},\"type\":\"scatterpolargl\"}],\"scatterternary\":[{\"marker\":{\"colorbar\":{\"outlinewidth\":0,\"ticks\":\"\"}},\"type\":\"scatterternary\"}],\"surface\":[{\"colorbar\":{\"outlinewidth\":0,\"ticks\":\"\"},\"colorscale\":[[0.0,\"#0d0887\"],[0.1111111111111111,\"#46039f\"],[0.2222222222222222,\"#7201a8\"],[0.3333333333333333,\"#9c179e\"],[0.4444444444444444,\"#bd3786\"],[0.5555555555555556,\"#d8576b\"],[0.6666666666666666,\"#ed7953\"],[0.7777777777777778,\"#fb9f3a\"],[0.8888888888888888,\"#fdca26\"],[1.0,\"#f0f921\"]],\"type\":\"surface\"}],\"table\":[{\"cells\":{\"fill\":{\"color\":\"#EBF0F8\"},\"line\":{\"color\":\"white\"}},\"header\":{\"fill\":{\"color\":\"#C8D4E3\"},\"line\":{\"color\":\"white\"}},\"type\":\"table\"}]},\"layout\":{\"annotationdefaults\":{\"arrowcolor\":\"#2a3f5f\",\"arrowhead\":0,\"arrowwidth\":1},\"autotypenumbers\":\"strict\",\"coloraxis\":{\"colorbar\":{\"outlinewidth\":0,\"ticks\":\"\"}},\"colorscale\":{\"diverging\":[[0,\"#8e0152\"],[0.1,\"#c51b7d\"],[0.2,\"#de77ae\"],[0.3,\"#f1b6da\"],[0.4,\"#fde0ef\"],[0.5,\"#f7f7f7\"],[0.6,\"#e6f5d0\"],[0.7,\"#b8e186\"],[0.8,\"#7fbc41\"],[0.9,\"#4d9221\"],[1,\"#276419\"]],\"sequential\":[[0.0,\"#0d0887\"],[0.1111111111111111,\"#46039f\"],[0.2222222222222222,\"#7201a8\"],[0.3333333333333333,\"#9c179e\"],[0.4444444444444444,\"#bd3786\"],[0.5555555555555556,\"#d8576b\"],[0.6666666666666666,\"#ed7953\"],[0.7777777777777778,\"#fb9f3a\"],[0.8888888888888888,\"#fdca26\"],[1.0,\"#f0f921\"]],\"sequentialminus\":[[0.0,\"#0d0887\"],[0.1111111111111111,\"#46039f\"],[0.2222222222222222,\"#7201a8\"],[0.3333333333333333,\"#9c179e\"],[0.4444444444444444,\"#bd3786\"],[0.5555555555555556,\"#d8576b\"],[0.6666666666666666,\"#ed7953\"],[0.7777777777777778,\"#fb9f3a\"],[0.8888888888888888,\"#fdca26\"],[1.0,\"#f0f921\"]]},\"colorway\":[\"#636efa\",\"#EF553B\",\"#00cc96\",\"#ab63fa\",\"#FFA15A\",\"#19d3f3\",\"#FF6692\",\"#B6E880\",\"#FF97FF\",\"#FECB52\"],\"font\":{\"color\":\"#2a3f5f\"},\"geo\":{\"bgcolor\":\"white\",\"lakecolor\":\"white\",\"landcolor\":\"#E5ECF6\",\"showlakes\":true,\"showland\":true,\"subunitcolor\":\"white\"},\"hoverlabel\":{\"align\":\"left\"},\"hovermode\":\"closest\",\"mapbox\":{\"style\":\"light\"},\"paper_bgcolor\":\"white\",\"plot_bgcolor\":\"#E5ECF6\",\"polar\":{\"angularaxis\":{\"gridcolor\":\"white\",\"linecolor\":\"white\",\"ticks\":\"\"},\"bgcolor\":\"#E5ECF6\",\"radialaxis\":{\"gridcolor\":\"white\",\"linecolor\":\"white\",\"ticks\":\"\"}},\"scene\":{\"xaxis\":{\"backgroundcolor\":\"#E5ECF6\",\"gridcolor\":\"white\",\"gridwidth\":2,\"linecolor\":\"white\",\"showbackground\":true,\"ticks\":\"\",\"zerolinecolor\":\"white\"},\"yaxis\":{\"backgroundcolor\":\"#E5ECF6\",\"gridcolor\":\"white\",\"gridwidth\":2,\"linecolor\":\"white\",\"showbackground\":true,\"ticks\":\"\",\"zerolinecolor\":\"white\"},\"zaxis\":{\"backgroundcolor\":\"#E5ECF6\",\"gridcolor\":\"white\",\"gridwidth\":2,\"linecolor\":\"white\",\"showbackground\":true,\"ticks\":\"\",\"zerolinecolor\":\"white\"}},\"shapedefaults\":{\"line\":{\"color\":\"#2a3f5f\"}},\"ternary\":{\"aaxis\":{\"gridcolor\":\"white\",\"linecolor\":\"white\",\"ticks\":\"\"},\"baxis\":{\"gridcolor\":\"white\",\"linecolor\":\"white\",\"ticks\":\"\"},\"bgcolor\":\"#E5ECF6\",\"caxis\":{\"gridcolor\":\"white\",\"linecolor\":\"white\",\"ticks\":\"\"}},\"title\":{\"x\":0.05},\"xaxis\":{\"automargin\":true,\"gridcolor\":\"white\",\"linecolor\":\"white\",\"ticks\":\"\",\"title\":{\"standoff\":15},\"zerolinecolor\":\"white\",\"zerolinewidth\":2},\"yaxis\":{\"automargin\":true,\"gridcolor\":\"white\",\"linecolor\":\"white\",\"ticks\":\"\",\"title\":{\"standoff\":15},\"zerolinecolor\":\"white\",\"zerolinewidth\":2}}},\"xaxis\":{\"anchor\":\"y\",\"domain\":[0.0,1.0],\"title\":{\"text\":\"x\"}},\"yaxis\":{\"anchor\":\"x\",\"domain\":[0.0,1.0],\"title\":{\"text\":\"y\"}}},                        {\"responsive\": true}                    ).then(function(){\n",
       "                            \n",
       "var gd = document.getElementById('f2af90cd-ebbb-42bb-8bbd-322f46ae841c');\n",
       "var x = new MutationObserver(function (mutations, observer) {{\n",
       "        var display = window.getComputedStyle(gd).display;\n",
       "        if (!display || display === 'none') {{\n",
       "            console.log([gd, 'removed!']);\n",
       "            Plotly.purge(gd);\n",
       "            observer.disconnect();\n",
       "        }}\n",
       "}});\n",
       "\n",
       "// Listen for the removal of the full notebook cells\n",
       "var notebookContainer = gd.closest('#notebook-container');\n",
       "if (notebookContainer) {{\n",
       "    x.observe(notebookContainer, {childList: true});\n",
       "}}\n",
       "\n",
       "// Listen for the clearing of the current output cell\n",
       "var outputEl = gd.closest('.output');\n",
       "if (outputEl) {{\n",
       "    x.observe(outputEl, {childList: true});\n",
       "}}\n",
       "\n",
       "                        })                };                });            </script>        </div>"
      ]
     },
     "metadata": {},
     "output_type": "display_data"
    }
   ],
   "source": [
    "import plotly.express as px\n",
    "px.scatter(df, x = \"x\", y = \"y\")"
   ]
  },
  {
   "cell_type": "markdown",
   "metadata": {},
   "source": [
    "In this exercise, we'll show gradient descent is so powerful it can even optimize a nonlinear model. Specifically, we're going to model the relationship of our data by:\n",
    "\n",
    "$$\\Large{\n",
    "f_{\\boldsymbol{\\theta(x)}} = \\theta_1x + sin(\\theta_2x)\n",
    "}$$"
   ]
  },
  {
   "cell_type": "markdown",
   "metadata": {},
   "source": [
    "Our model is parameterized by both $\\theta_1$ and $\\theta_2$, which we can represent in the vector, $\\boldsymbol{\\theta}$.\n",
    "\n",
    "Note that a general sine function $a\\sin(bx+c)$ has three parameters: amplitude scaling parameter $a$, frequency parameter $b$ and phase shifting parameter $c$. \n",
    "\n",
    "Here, we're assuming the amplitude $a$ is around 1, and the phase shifting parameter $c$ is around zero. We do not attempt to justify this assumption and you're welcome to see what happens if you ignore this assumption at the end of this lab."
   ]
  },
  {
   "cell_type": "markdown",
   "metadata": {},
   "source": [
    "You might ask why we don't just create a linear model like we did earlier with a sinusoidal feature. The issue is that the theta is INSIDE the sin function. In other words, linear models use their parameters to adjust the scale of each feature, but $\\theta_2$ in this model adjusts the frequency of the feature. There are tricks we could play to use our linear model framework here, but we won't attempt this in our lab."
   ]
  },
  {
   "cell_type": "markdown",
   "metadata": {
    "nbgrader": {
     "grade": false,
     "grade_id": "q3a",
     "locked": true,
     "schema_version": 2,
     "solution": false
    }
   },
   "source": [
    "We define the `sin_model` function below that predicts $\\textbf{y}$ (the $y$-values) using $\\textbf{x}$ (the $x$-values) based on our new equation."
   ]
  },
  {
   "cell_type": "code",
   "execution_count": 73,
   "metadata": {
    "nbgrader": {
     "grade": false,
     "grade_id": "q3a-answer",
     "locked": false,
     "schema_version": 2,
     "solution": true
    }
   },
   "outputs": [],
   "source": [
    "def sin_model(x, theta):\n",
    "    \"\"\"\n",
    "    Predict the estimate of y given x, theta_1, theta_2\n",
    "\n",
    "    Keyword arguments:\n",
    "    x -- the vector of values x\n",
    "    theta -- a vector of length 2, where theta[0] = theta_1 and theta[1] = theta_2\n",
    "    \"\"\"\n",
    "    theta_1 = theta[0]\n",
    "    theta_2 = theta[1]\n",
    "    return theta_1 * x + np.sin(theta_2 * x)"
   ]
  },
  {
   "cell_type": "markdown",
   "metadata": {},
   "source": [
    "---\n",
    "### Question 4a: Computing the Gradient of the MSE With Respect to Theta on the Sin Model"
   ]
  },
  {
   "cell_type": "markdown",
   "metadata": {
    "deletable": false,
    "editable": false
   },
   "source": [
    "Recall $\\hat{\\theta}$ is the value of $\\theta$ that minimizes our loss function. One way of solving for $\\hat{\\theta}$ is by computing the gradient of our loss function with respect to $\\theta$, like we did in lecture: https://docs.google.com/presentation/d/1j9ESgjn-aeZSOX5ON1wjkF5WBZHc4IN7XvTpYnX1pFs/edit#slide=id.gfc76b62ec3_0_27. Recall that the gradient is a column vector of two partial derivatives.\n",
    "\n",
    "Write/derive the expressions for following values and use them to fill in the functions below.\n",
    "\n",
    "* $L(\\textbf{x}, \\textbf{y}, \\theta_1, \\theta_2)$: our loss function, the mean squared error\n",
    "* $\\frac{\\partial L }{\\partial \\theta_1}$: the partial derivative of $L$ with respect to $\\theta_1$\n",
    "* $\\frac{\\partial L }{\\partial \\theta_2}$: the partial derivative of $L$ with respect to $\\theta_2$\n",
    "\n",
    "Recall that $L(\\textbf{x}, \\textbf{y}, \\theta_1, \\theta_2) = \\frac{1}{n} \\sum_{i=1}^{n} (\\textbf{y}_i - \\hat{\\textbf{y}}_i)^2$\n",
    "\n",
    "Specifically, the functions `sin_MSE`, `sin_MSE_dt1` and `sin_MSE_dt2` should compute $R$, $\\frac{\\partial R }{\\partial \\theta_1}$ and $\\frac{\\partial R }{\\partial \\theta_2}$ respectively. Use the expressions you wrote for $\\frac{\\partial R }{\\partial \\theta_1}$ and $\\frac{\\partial R }{\\partial \\theta_2}$ to implement these functions. In the functions below, the parameter `theta` is a vector that looks like $\\begin{bmatrix} \\theta_1 \\\\ \\theta_2 \\end{bmatrix}$. We have completed `sin_MSE_gradient`, which calls `dt1` and `dt2` and returns the gradient `dt` for you.\n",
    "\n",
    "Notes: \n",
    "* Keep in mind that we are still working with our original set of data, `df`.\n",
    "* To keep your code a bit more concise, be aware that `np.mean` does the same thing as `np.sum` divided by the length of the numpy array.\n",
    "* Another way to keep your code more concise is to use the function `sin_model` we defined which computes the output of the model.\n",
    "\n",
    "<!--\n",
    "BEGIN QUESTION\n",
    "name: q4a\n",
    "points: 3\n",
    "-->"
   ]
  },
  {
   "cell_type": "code",
   "execution_count": 74,
   "metadata": {},
   "outputs": [],
   "source": [
    "def sin_MSE(theta, x, y):\n",
    "    \"\"\"\n",
    "    Compute the numerical value of the l2 loss of our sinusoidal model given theta\n",
    "\n",
    "    Keyword arguments:\n",
    "    theta -- the vector of values theta\n",
    "    x     -- the vector of x values\n",
    "    y     -- the vector of y values\n",
    "    \"\"\"\n",
    "    return np.mean((y-sin_model(x, theta))**2)\n",
    "\n",
    "def sin_MSE_dt1(theta, x, y):\n",
    "    \"\"\"\n",
    "    Compute the numerical value of the partial of l2 loss with respect to theta_1\n",
    "\n",
    "    Keyword arguments:\n",
    "    theta -- the vector of values theta\n",
    "    x     -- the vector of x values\n",
    "    y     -- the vector of y values\n",
    "    \"\"\"\n",
    "    return np.mean(-2*(y-sin_model(x, theta))*x)\n",
    "    \n",
    "def sin_MSE_dt2(theta, x, y):\n",
    "    \"\"\"\n",
    "    Compute the numerical value of the partial of l2 loss with respect to theta_2\n",
    "\n",
    "    Keyword arguments:\n",
    "    theta -- the vector of values theta\n",
    "    x     -- the vector of x values\n",
    "    y     -- the vector of y values\n",
    "    \"\"\"\n",
    "    return np.mean(-2*(y-sin_model(x, theta))*x*np.cos(theta[1]*x))\n",
    "\n",
    "    \n",
    "# This function calls dt1 and dt2 and returns the gradient dt. It is already implemented for you.\n",
    "def sin_MSE_gradient(theta, x, y):\n",
    "    \"\"\"\n",
    "    Returns the gradient of l2 loss with respect to vector theta\n",
    "\n",
    "    Keyword arguments:\n",
    "    theta -- the vector of values theta\n",
    "    x     -- the vector of x values\n",
    "    y     -- the vector of y values\n",
    "    \"\"\"\n",
    "    return np.array([sin_MSE_dt1(theta, x, y), sin_MSE_dt2(theta, x, y)])"
   ]
  },
  {
   "cell_type": "code",
   "execution_count": 75,
   "metadata": {
    "deletable": false,
    "editable": false
   },
   "outputs": [
    {
     "data": {
      "text/html": [
       "<p><strong><pre style='display: inline;'>q4a</pre></strong> passed!</p>"
      ],
      "text/plain": [
       "q4a results: All test cases passed!"
      ]
     },
     "execution_count": 75,
     "metadata": {},
     "output_type": "execute_result"
    }
   ],
   "source": [
    "grader.check(\"q4a\")"
   ]
  },
  {
   "cell_type": "markdown",
   "metadata": {},
   "source": [
    "---\n",
    "### Question 4b: Implementing Gradient Descent and Using It to Optimize the Sin Model"
   ]
  },
  {
   "cell_type": "markdown",
   "metadata": {
    "deletable": false,
    "editable": false
   },
   "source": [
    "Let's now implement gradient descent. \n",
    "\n",
    "Note that the function you're implementing here is somewhat different than the gradient descent function we created in lecture. The version in lecture was `gradient_descent(df, initial_guess, alpha, n)`, where `df` was the gradient of the function we are minimizing and `initial_guess` are the starting parameters for that function. Here our signature is a bit different (described below) than the `gradient_descent` [implementation from lecture](https://ds100.org/sp22/resources/assets/lectures/lec12/lec12.html).\n",
    "\n",
    "<!--\n",
    "BEGIN QUESTION\n",
    "name: q4b\n",
    "points: 3\n",
    "-->"
   ]
  },
  {
   "cell_type": "code",
   "execution_count": 76,
   "metadata": {},
   "outputs": [],
   "source": [
    "def init_theta():\n",
    "    \"\"\"Creates an initial theta [0, 0] of shape (2,) as a starting point for gradient descent\"\"\"\n",
    "    return np.array([0, 0])\n",
    "\n",
    "def grad_desc(loss_f, gradient_loss_f, theta, data, num_iter=20, alpha=0.1):\n",
    "    \"\"\"\n",
    "    Run gradient descent update for a finite number of iterations and static learning rate\n",
    "\n",
    "    Keyword arguments:\n",
    "    loss_f -- the loss function to be minimized (used for computing loss_history)\n",
    "    gradient_loss_f -- the gradient of the loss function to be minimized\n",
    "    theta -- the vector of values theta to use at first iteration\n",
    "    data -- the data used in the model \n",
    "    num_iter -- the max number of iterations\n",
    "    alpha -- the learning rate (also called the step size)\n",
    "    \n",
    "    Return:\n",
    "    theta -- the optimal value of theta after num_iter of gradient descent\n",
    "    theta_history -- the series of theta values over each iteration of gradient descent\n",
    "    loss_history -- the series of loss values over each iteration of gradient descent\n",
    "    \"\"\"\n",
    "    theta_history = []\n",
    "    loss_history = []\n",
    "\n",
    "    ...\n",
    "    return theta, theta_history, loss_history\n",
    "\n",
    "theta_start = init_theta()\n",
    "theta_hat, thetas_used, losses_calculated = grad_desc(\n",
    "    sin_MSE, sin_MSE_gradient, theta_start, df, num_iter=20, alpha=0.1\n",
    ")\n",
    "for b, l in zip(thetas_used, losses_calculated):\n",
    "    print(f\"theta: {b}, Loss: {l}\")"
   ]
  },
  {
   "cell_type": "code",
   "execution_count": 77,
   "metadata": {
    "deletable": false,
    "editable": false
   },
   "outputs": [
    {
     "data": {
      "text/html": [
       "<p><strong><pre style='display: inline;'>q4b</pre></strong> passed!</p>"
      ],
      "text/plain": [
       "q4b results: All test cases passed!"
      ]
     },
     "execution_count": 77,
     "metadata": {},
     "output_type": "execute_result"
    }
   ],
   "source": [
    "grader.check(\"q4b\")"
   ]
  },
  {
   "cell_type": "markdown",
   "metadata": {},
   "source": [
    "If you pass the tests above, you're done coding for this lab, though there are some cool visualizations below we'd like you to think about."
   ]
  },
  {
   "cell_type": "markdown",
   "metadata": {},
   "source": [
    "Let's visually inspect our results of running gradient descent to optimize $\\boldsymbol\\theta$. The code below plots our $x$-values with our model's predicted $\\hat{y}$-values over the original scatter plot. You should notice that gradient descent successfully optimized $\\boldsymbol\\theta$."
   ]
  },
  {
   "cell_type": "code",
   "execution_count": 78,
   "metadata": {},
   "outputs": [],
   "source": [
    "theta_init = init_theta()\n",
    "\n",
    "theta_est, thetas, loss = grad_desc(sin_MSE, sin_MSE_gradient, theta_init, df)"
   ]
  },
  {
   "cell_type": "markdown",
   "metadata": {},
   "source": [
    "Plotting our model output over our observaitons shows that gradient descent did  a great job finding both the overall increase (slope) of the data, as well as the oscillation frequency."
   ]
  },
  {
   "cell_type": "code",
   "execution_count": 79,
   "metadata": {},
   "outputs": [
    {
     "data": {
      "image/png": "[encoded data removed]",
      "text/plain": [
       "<Figure size 432x288 with 1 Axes>"
      ]
     },
     "metadata": {
      "needs_background": "light"
     },
     "output_type": "display_data"
    }
   ],
   "source": [
    "x, y = df['x'], df['y']\n",
    "y_pred = sin_model(x, theta_est)\n",
    "\n",
    "plt.plot(x, y_pred, label='Model ($\\hat{y}$)')\n",
    "plt.scatter(x, y, alpha=0.5, label='Observation ($y$)', color='gold')\n",
    "plt.legend();"
   ]
  },
  {
   "cell_type": "markdown",
   "metadata": {},
   "source": [
    "<br/>\n",
    "<hr style=\"border: 1px solid #fdb515;\" />\n",
    "\n",
    "## Visualizing Loss (Extra)\n",
    "\n",
    "Let's visualize our loss functions and gain some insight as to how gradient descent optimizes our model parameters.\n",
    "\n",
    "In the previous plot we saw the loss decrease with each iteration. In this part, we'll see the trajectory of the algorithm as it travels the loss surface? Run the following cells to see visualization of this trajectory. "
   ]
  },
  {
   "cell_type": "code",
   "execution_count": 80,
   "metadata": {},
   "outputs": [
    {
     "data": {
      "text/plain": [
       "array([], dtype=float64)"
      ]
     },
     "execution_count": 80,
     "metadata": {},
     "output_type": "execute_result"
    }
   ],
   "source": [
    "thetas = np.array(thetas).squeeze()\n",
    "loss = np.array(loss)\n",
    "thetas"
   ]
  },
  {
   "cell_type": "code",
   "execution_count": 81,
   "metadata": {},
   "outputs": [
    {
     "ename": "IndexError",
     "evalue": "too many indices for array: array is 1-dimensional, but 2 were indexed",
     "output_type": "error",
     "traceback": [
      "\u001b[0;31m---------------------------------------------------------------------------\u001b[0m",
      "\u001b[0;31mIndexError\u001b[0m                                Traceback (most recent call last)",
      "Input \u001b[0;32mIn [81]\u001b[0m, in \u001b[0;36m<module>\u001b[0;34m\u001b[0m\n\u001b[1;32m      1\u001b[0m \u001b[38;5;66;03m# Run me to see a 3D plot (gradient descent with static alpha)\u001b[39;00m\n\u001b[1;32m      2\u001b[0m \u001b[38;5;28;01mfrom\u001b[39;00m \u001b[38;5;21;01mlab7_utils\u001b[39;00m \u001b[38;5;28;01mimport\u001b[39;00m plot_3d\n\u001b[0;32m----> 3\u001b[0m plot_3d(\u001b[43mthetas\u001b[49m\u001b[43m[\u001b[49m\u001b[43m:\u001b[49m\u001b[43m,\u001b[49m\u001b[43m \u001b[49m\u001b[38;5;241;43m0\u001b[39;49m\u001b[43m]\u001b[49m, thetas[:, \u001b[38;5;241m1\u001b[39m], loss, mean_squared_error, sin_model, x, y)\n",
      "\u001b[0;31mIndexError\u001b[0m: too many indices for array: array is 1-dimensional, but 2 were indexed"
     ]
    }
   ],
   "source": [
    "# Run me to see a 3D plot (gradient descent with static alpha)\n",
    "from lab7_utils import plot_3d\n",
    "plot_3d(thetas[:, 0], thetas[:, 1], loss, mean_squared_error, sin_model, x, y)"
   ]
  },
  {
   "cell_type": "code",
   "execution_count": null,
   "metadata": {},
   "outputs": [],
   "source": [
    "import plotly\n",
    "import plotly.graph_objs as go"
   ]
  },
  {
   "cell_type": "code",
   "execution_count": null,
   "metadata": {},
   "outputs": [],
   "source": [
    "def contour_plot(title, theta_history, loss_function, model, x, y):\n",
    "    \"\"\"\n",
    "    The function takes the following as argument:\n",
    "        theta_history: a (N, 2) array of theta history\n",
    "        loss: a list or array of loss value\n",
    "        loss_function: for example, l2_loss\n",
    "        model: for example, sin_model\n",
    "        x: the original x input\n",
    "        y: the original y output\n",
    "    \"\"\"\n",
    "    theta_1_series = theta_history[:,0] # a list or array of theta_1 value\n",
    "    theta_2_series = theta_history[:,1] # a list or array of theta_2 value\n",
    "\n",
    "    ## In the following block of code, we generate the z value\n",
    "    ## across a 2D grid\n",
    "    theta1_s = np.linspace(np.min(theta_1_series) - 0.1, np.max(theta_1_series) + 0.1)\n",
    "    theta2_s = np.linspace(np.min(theta_2_series) - 0.1, np.max(theta_2_series) + 0.1)\n",
    "\n",
    "    x_s, y_s = np.meshgrid(theta1_s, theta2_s)\n",
    "    data = np.stack([x_s.flatten(), y_s.flatten()]).T\n",
    "    ls = []\n",
    "    for theta1, theta2 in data:\n",
    "        l = loss_function(model(x, np.array([theta1, theta2])), y)\n",
    "        ls.append(l)\n",
    "    z = np.array(ls).reshape(50, 50)\n",
    "    \n",
    "    # Create trace of theta point\n",
    "    # Create the contour \n",
    "    theta_points = go.Scatter(name=\"theta Values\", \n",
    "                              x=theta_1_series, \n",
    "                              y=theta_2_series,\n",
    "                              mode=\"lines+markers\")\n",
    "    lr_loss_contours = go.Contour(x=theta1_s, \n",
    "                                  y=theta2_s, \n",
    "                                  z=z, \n",
    "                                  colorscale='Viridis', reversescale=True)\n",
    "\n",
    "    plotly.offline.iplot(go.Figure(data=[lr_loss_contours, theta_points], layout={'title': title}))"
   ]
  },
  {
   "cell_type": "code",
   "execution_count": null,
   "metadata": {},
   "outputs": [],
   "source": [
    "contour_plot('Gradient Descent with Static Learning Rate', thetas, mean_squared_error, sin_model, df[\"x\"], df[\"y\"])"
   ]
  },
  {
   "cell_type": "markdown",
   "metadata": {},
   "source": [
    "As we can see, gradient descent is able to navigate even this fairly complex loss space and find a nice minimum."
   ]
  },
  {
   "cell_type": "markdown",
   "metadata": {},
   "source": [
    "# Congratulations! You finished the lab!"
   ]
  },
  {
   "cell_type": "markdown",
   "metadata": {
    "deletable": false,
    "editable": false
   },
   "source": [
    "---\n",
    "\n",
    "To double-check your work, the cell below will rerun all of the autograder tests."
   ]
  },
  {
   "cell_type": "code",
   "execution_count": 82,
   "metadata": {
    "deletable": false,
    "editable": false
   },
   "outputs": [
    {
     "data": {
      "text/plain": [
       "q1a results: All test cases passed!\n",
       "\n",
       "q2 results: All test cases passed!\n",
       "\n",
       "q3b results: All test cases passed!\n",
       "\n",
       "q4a results: All test cases passed!\n",
       "\n",
       "q4b results: All test cases passed!"
      ]
     },
     "execution_count": 82,
     "metadata": {},
     "output_type": "execute_result"
    }
   ],
   "source": [
    "grader.check_all()"
   ]
  },
  {
   "cell_type": "markdown",
   "metadata": {
    "deletable": false,
    "editable": false
   },
   "source": [
    "## Submission\n",
    "\n",
    "Make sure you have run all cells in your notebook in order before running the cell below, so that all images/graphs appear in the output. The cell below will generate a zip file for you to submit. **Please save before exporting!**"
   ]
  },
  {
   "cell_type": "code",
   "execution_count": 83,
   "metadata": {
    "deletable": false,
    "editable": false
   },
   "outputs": [
    {
     "data": {
      "text/html": [
       "\n",
       "            <p>Your submission has been exported. Click <a href=\"lab07_2022_03_05T12_51_18_594207.zip\" download=\"lab07_2022_03_05T12_51_18_594207.zip\" target=\"_blank\">here</a>\n",
       "            to download the zip file.</p>\n",
       "            "
      ],
      "text/plain": [
       "<IPython.core.display.HTML object>"
      ]
     },
     "metadata": {},
     "output_type": "display_data"
    }
   ],
   "source": [
    "# Save your notebook first, then run this cell to export your submission.\n",
    "grader.export(pdf=False)"
   ]
  },
  {
   "cell_type": "markdown",
   "metadata": {},
   "source": [
    " "
   ]
  }
 ],
 "metadata": {
  "celltoolbar": "Create Assignment",
  "kernelspec": {
   "display_name": "Python 3 (ipykernel)",
   "language": "python",
   "name": "python3"
  },
  "language_info": {
   "codemirror_mode": {
    "name": "ipython",
    "version": 3
   },
   "file_extension": ".py",
   "mimetype": "text/x-python",
   "name": "python",
   "nbconvert_exporter": "python",
   "pygments_lexer": "ipython3",
   "version": "3.9.10"
  }
 },
 "nbformat": 4,
 "nbformat_minor": 4
}
